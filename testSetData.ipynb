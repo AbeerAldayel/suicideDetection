{
 "cells": [
  {
   "cell_type": "code",
   "execution_count": 2,
   "metadata": {
    "collapsed": true
   },
   "outputs": [],
   "source": [
    "import pandas as pd"
   ]
  },
  {
   "cell_type": "code",
   "execution_count": 13,
   "metadata": {},
   "outputs": [],
   "source": [
    "#path = '/home/lucia/phd_work/shareTask/'\n",
    "path =  '/Users/lucia/phd_work/Clpsy/'\n",
    "posts = pd.read_csv(path + 'data/clpsych19_test_data/shared_task_posts_test.csv')\n",
    "postid = pd.read_csv(path + 'data/clpsych19_test_data/task_B_test.posts.csv')\n",
    "postid = postid.drop(['user_id', 'subreddit'], axis = 1)"
   ]
  },
  {
   "cell_type": "code",
   "execution_count": 27,
   "metadata": {},
   "outputs": [
    {
     "name": "stdout",
     "output_type": "stream",
     "text": [
      "posts in Btest 9610\n",
      "all the posts in test set 14447\n"
     ]
    }
   ],
   "source": [
    "print('posts in Btest' ,postid.shape[0])\n",
    "print('all the posts in test set', posts.shape[0])"
   ]
  },
  {
   "cell_type": "code",
   "execution_count": 67,
   "metadata": {},
   "outputs": [
    {
     "name": "stdout",
     "output_type": "stream",
     "text": [
      "(9610, 6)\n"
     ]
    },
    {
     "data": {
      "text/html": [
       "<div>\n",
       "<style>\n",
       "    .dataframe thead tr:only-child th {\n",
       "        text-align: right;\n",
       "    }\n",
       "\n",
       "    .dataframe thead th {\n",
       "        text-align: left;\n",
       "    }\n",
       "\n",
       "    .dataframe tbody tr th {\n",
       "        vertical-align: top;\n",
       "    }\n",
       "</style>\n",
       "<table border=\"1\" class=\"dataframe\">\n",
       "  <thead>\n",
       "    <tr style=\"text-align: right;\">\n",
       "      <th></th>\n",
       "      <th>post_id</th>\n",
       "      <th>user_id</th>\n",
       "      <th>timestamp</th>\n",
       "      <th>subreddit</th>\n",
       "      <th>post_title</th>\n",
       "      <th>post_body</th>\n",
       "    </tr>\n",
       "  </thead>\n",
       "  <tbody>\n",
       "    <tr>\n",
       "      <th>0</th>\n",
       "      <td>eer4k</td>\n",
       "      <td>35972</td>\n",
       "      <td>1291242113</td>\n",
       "      <td>DoesAnybodyElse</td>\n",
       "      <td>DAE cross their feet and try to pull them apar...</td>\n",
       "      <td>Let me try to explain before people think it's...</td>\n",
       "    </tr>\n",
       "    <tr>\n",
       "      <th>1</th>\n",
       "      <td>exlu5</td>\n",
       "      <td>35972</td>\n",
       "      <td>1294363123</td>\n",
       "      <td>AskReddit</td>\n",
       "      <td>Is their a specific genre of electronic music ...</td>\n",
       "      <td>_PERSON_/watch?v=UsyhCe0V9HMBodyrox ft. Lucian...</td>\n",
       "    </tr>\n",
       "    <tr>\n",
       "      <th>2</th>\n",
       "      <td>exmbf</td>\n",
       "      <td>35972</td>\n",
       "      <td>1294364815</td>\n",
       "      <td>electronicmusic</td>\n",
       "      <td>Is their a specific genre of electronic music ...</td>\n",
       "      <td>NaN</td>\n",
       "    </tr>\n",
       "    <tr>\n",
       "      <th>3</th>\n",
       "      <td>f64pu</td>\n",
       "      <td>35972</td>\n",
       "      <td>1295567283</td>\n",
       "      <td>AskReddit</td>\n",
       "      <td>What is your purpose in life?</td>\n",
       "      <td>I think my purpose in life is to help my fello...</td>\n",
       "    </tr>\n",
       "    <tr>\n",
       "      <th>4</th>\n",
       "      <td>fbyan</td>\n",
       "      <td>35972</td>\n",
       "      <td>1296418935</td>\n",
       "      <td>DoesAnybodyElse</td>\n",
       "      <td>DAE fucking love tomato juice?</td>\n",
       "      <td>NaN</td>\n",
       "    </tr>\n",
       "  </tbody>\n",
       "</table>\n",
       "</div>"
      ],
      "text/plain": [
       "  post_id  user_id   timestamp        subreddit  \\\n",
       "0   eer4k    35972  1291242113  DoesAnybodyElse   \n",
       "1   exlu5    35972  1294363123        AskReddit   \n",
       "2   exmbf    35972  1294364815  electronicmusic   \n",
       "3   f64pu    35972  1295567283        AskReddit   \n",
       "4   fbyan    35972  1296418935  DoesAnybodyElse   \n",
       "\n",
       "                                          post_title  \\\n",
       "0  DAE cross their feet and try to pull them apar...   \n",
       "1  Is their a specific genre of electronic music ...   \n",
       "2  Is their a specific genre of electronic music ...   \n",
       "3                      What is your purpose in life?   \n",
       "4                     DAE fucking love tomato juice?   \n",
       "\n",
       "                                           post_body  \n",
       "0  Let me try to explain before people think it's...  \n",
       "1  _PERSON_/watch?v=UsyhCe0V9HMBodyrox ft. Lucian...  \n",
       "2                                                NaN  \n",
       "3  I think my purpose in life is to help my fello...  \n",
       "4                                                NaN  "
      ]
     },
     "execution_count": 67,
     "metadata": {},
     "output_type": "execute_result"
    }
   ],
   "source": [
    "test = pd.merge(postid, posts, on = 'post_id', how = 'left')\n",
    "test = test.iloc[:,0:6]\n",
    "print(test.shape)\n",
    "test.to_csv(path + 'data/clpsych19_training_data/testAll.csv')\n",
    "test[0:5]"
   ]
  },
  {
   "cell_type": "markdown",
   "metadata": {},
   "source": [
    "we can see most of the users only have 1 post in SW"
   ]
  },
  {
   "cell_type": "code",
   "execution_count": 68,
   "metadata": {},
   "outputs": [
    {
     "name": "stdout",
     "output_type": "stream",
     "text": [
      "(186, 6)\n",
      "number of users is 125\n"
     ]
    }
   ],
   "source": [
    "testSW = test[test['subreddit'] == 'SuicideWatch']\n",
    "users = testSW.groupby('user_id')['user_id'].nunique()\n",
    "testSW.to_csv(path + 'data/clpsych19_training_data/testSW.csv') \n",
    "print(testSW.shape)\n",
    "print('number of users is', users.shape[0])"
   ]
  },
  {
   "cell_type": "markdown",
   "metadata": {},
   "source": [
    "Posts extracted from psyList"
   ]
  },
  {
   "cell_type": "code",
   "execution_count": 74,
   "metadata": {},
   "outputs": [
    {
     "data": {
      "text/html": [
       "<div>\n",
       "<style>\n",
       "    .dataframe thead tr:only-child th {\n",
       "        text-align: right;\n",
       "    }\n",
       "\n",
       "    .dataframe thead th {\n",
       "        text-align: left;\n",
       "    }\n",
       "\n",
       "    .dataframe tbody tr th {\n",
       "        vertical-align: top;\n",
       "    }\n",
       "</style>\n",
       "<table border=\"1\" class=\"dataframe\">\n",
       "  <thead>\n",
       "    <tr style=\"text-align: right;\">\n",
       "      <th></th>\n",
       "      <th>post_id</th>\n",
       "      <th>user_id</th>\n",
       "      <th>timestamp</th>\n",
       "      <th>subreddit</th>\n",
       "      <th>post_title</th>\n",
       "      <th>post_body</th>\n",
       "      <th>Psy_title</th>\n",
       "      <th>Psy_body</th>\n",
       "      <th>Psy_subreddit</th>\n",
       "    </tr>\n",
       "  </thead>\n",
       "  <tbody>\n",
       "    <tr>\n",
       "      <th>38</th>\n",
       "      <td>mr5ui</td>\n",
       "      <td>35972</td>\n",
       "      <td>1322427496</td>\n",
       "      <td>trees</td>\n",
       "      <td>at a [4], and i have an idea i would really li...</td>\n",
       "      <td>i was talking to a friend just now and we got ...</td>\n",
       "      <td>False</td>\n",
       "      <td>True</td>\n",
       "      <td>False</td>\n",
       "    </tr>\n",
       "    <tr>\n",
       "      <th>46</th>\n",
       "      <td>qg7k1</td>\n",
       "      <td>35972</td>\n",
       "      <td>1330803860</td>\n",
       "      <td>adhd</td>\n",
       "      <td>i took my prescribed 15 mg dexedrine spansule ...</td>\n",
       "      <td>friend: how was the midterm?massive_tunes: eas...</td>\n",
       "      <td>False</td>\n",
       "      <td>False</td>\n",
       "      <td>True</td>\n",
       "    </tr>\n",
       "    <tr>\n",
       "      <th>50</th>\n",
       "      <td>t0xye</td>\n",
       "      <td>35972</td>\n",
       "      <td>1335841458</td>\n",
       "      <td>favors</td>\n",
       "      <td>[update] motivational speech guy with a very s...</td>\n",
       "      <td>i've responded to all of your messages!! it's ...</td>\n",
       "      <td>False</td>\n",
       "      <td>True</td>\n",
       "      <td>False</td>\n",
       "    </tr>\n",
       "    <tr>\n",
       "      <th>51</th>\n",
       "      <td>t2bsu</td>\n",
       "      <td>35972</td>\n",
       "      <td>1335914865</td>\n",
       "      <td>suicidewatch</td>\n",
       "      <td>as suggested by a fellow redditor, i have reco...</td>\n",
       "      <td>i just finished recording it. ah, i'm actually...</td>\n",
       "      <td>False</td>\n",
       "      <td>False</td>\n",
       "      <td>True</td>\n",
       "    </tr>\n",
       "  </tbody>\n",
       "</table>\n",
       "</div>"
      ],
      "text/plain": [
       "   post_id  user_id   timestamp     subreddit  \\\n",
       "38   mr5ui    35972  1322427496         trees   \n",
       "46   qg7k1    35972  1330803860          adhd   \n",
       "50   t0xye    35972  1335841458        favors   \n",
       "51   t2bsu    35972  1335914865  suicidewatch   \n",
       "\n",
       "                                           post_title  \\\n",
       "38  at a [4], and i have an idea i would really li...   \n",
       "46  i took my prescribed 15 mg dexedrine spansule ...   \n",
       "50  [update] motivational speech guy with a very s...   \n",
       "51  as suggested by a fellow redditor, i have reco...   \n",
       "\n",
       "                                            post_body  Psy_title  Psy_body  \\\n",
       "38  i was talking to a friend just now and we got ...      False      True   \n",
       "46  friend: how was the midterm?massive_tunes: eas...      False     False   \n",
       "50  i've responded to all of your messages!! it's ...      False      True   \n",
       "51  i just finished recording it. ah, i'm actually...      False     False   \n",
       "\n",
       "    Psy_subreddit  \n",
       "38          False  \n",
       "46           True  \n",
       "50          False  \n",
       "51           True  "
      ]
     },
     "execution_count": 74,
     "metadata": {},
     "output_type": "execute_result"
    }
   ],
   "source": [
    "def readDictionaries(filePath):\n",
    "    with open(filePath) as f:\n",
    "        myList = [x.strip().replace(\"'\",\"\").lower() for x in f.read().split(\",\")]\n",
    "        #print(Psylist)\n",
    "    return myList\n",
    "\n",
    "def lowerCase(file):\n",
    "    file['post_title'] = file['post_title'].apply(lambda x: x.lower() if type(x) is str else 'NULL')\n",
    "    file['subreddit'] = file['subreddit'].apply(lambda x: x.lower() if type(x) is str else 'NULL')\n",
    "    \n",
    "    file['post_body'] = file['post_body'].apply(lambda x: x.lower() if type(x) is str else 'NULL')\n",
    "    \n",
    "def findText(text, wordList):\n",
    "    for item in wordList:\n",
    "        if item in text:\n",
    "            return True\n",
    "    return False\n",
    "\n",
    "def subsetDictPosts(file, dictionary, newTitle, newBody, newSub):\n",
    "    file[newTitle] = file.apply(lambda row: True if findText(row[\"post_title\"], dictionary) else False, axis=1)\n",
    "    file[newBody] = file.apply(lambda row: True if findText(row[\"post_body\"], dictionary) else False, axis=1)\n",
    "    file[newSub] = file.apply(lambda row: True if findText(row[\"subreddit\"], dictionary) else False, axis=1)\n",
    "    newFile = file[['post_id',newTitle,newBody,newSub]]\n",
    "    return newFile \n",
    "   \n",
    "\n",
    "lowerCase(test)\n",
    "PsyList = readDictionaries(path +'suicideDetection/dictionaries/psyList.txt')\n",
    "file = subsetDictPosts(test, PsyList, 'Psy_title', 'Psy_body', 'Psy_subreddit')\n",
    "MH = test[(file['Psy_body'] == True) | (file['Psy_title'] == True) | (file['Psy_subreddit'] == True)]\n",
    "MH.shape\n",
    "MH[1:5]"
   ]
  },
  {
   "cell_type": "code",
   "execution_count": 81,
   "metadata": {},
   "outputs": [
    {
     "name": "stdout",
     "output_type": "stream",
     "text": [
      "(785, 9)\n"
     ]
    }
   ],
   "source": [
    "stressed =  MH[MH['subreddit'] != 'suicidewatch']\n",
    "print(stressed.shape)"
   ]
  },
  {
   "cell_type": "code",
   "execution_count": 82,
   "metadata": {},
   "outputs": [
    {
     "name": "stdout",
     "output_type": "stream",
     "text": [
      "(785, 6)\n"
     ]
    },
    {
     "data": {
      "text/html": [
       "<div>\n",
       "<style>\n",
       "    .dataframe thead tr:only-child th {\n",
       "        text-align: right;\n",
       "    }\n",
       "\n",
       "    .dataframe thead th {\n",
       "        text-align: left;\n",
       "    }\n",
       "\n",
       "    .dataframe tbody tr th {\n",
       "        vertical-align: top;\n",
       "    }\n",
       "</style>\n",
       "<table border=\"1\" class=\"dataframe\">\n",
       "  <thead>\n",
       "    <tr style=\"text-align: right;\">\n",
       "      <th></th>\n",
       "      <th>post_id</th>\n",
       "      <th>user_id</th>\n",
       "      <th>timestamp</th>\n",
       "      <th>subreddit</th>\n",
       "      <th>post_title</th>\n",
       "      <th>post_body</th>\n",
       "    </tr>\n",
       "  </thead>\n",
       "  <tbody>\n",
       "    <tr>\n",
       "      <th>38</th>\n",
       "      <td>mr5ui</td>\n",
       "      <td>35972</td>\n",
       "      <td>1322427496</td>\n",
       "      <td>trees</td>\n",
       "      <td>at a [4], and i have an idea i would really li...</td>\n",
       "      <td>i was talking to a friend just now and we got ...</td>\n",
       "    </tr>\n",
       "    <tr>\n",
       "      <th>46</th>\n",
       "      <td>qg7k1</td>\n",
       "      <td>35972</td>\n",
       "      <td>1330803860</td>\n",
       "      <td>adhd</td>\n",
       "      <td>i took my prescribed 15 mg dexedrine spansule ...</td>\n",
       "      <td>friend: how was the midterm?massive_tunes: eas...</td>\n",
       "    </tr>\n",
       "    <tr>\n",
       "      <th>50</th>\n",
       "      <td>t0xye</td>\n",
       "      <td>35972</td>\n",
       "      <td>1335841458</td>\n",
       "      <td>favors</td>\n",
       "      <td>[update] motivational speech guy with a very s...</td>\n",
       "      <td>i've responded to all of your messages!! it's ...</td>\n",
       "    </tr>\n",
       "    <tr>\n",
       "      <th>52</th>\n",
       "      <td>tdkm5</td>\n",
       "      <td>35972</td>\n",
       "      <td>1336512252</td>\n",
       "      <td>getmotivated</td>\n",
       "      <td>if you're feeling down/sad/depressed/unmotivat...</td>\n",
       "      <td>for context as to why i'm doing this, look at ...</td>\n",
       "    </tr>\n",
       "  </tbody>\n",
       "</table>\n",
       "</div>"
      ],
      "text/plain": [
       "   post_id  user_id   timestamp     subreddit  \\\n",
       "38   mr5ui    35972  1322427496         trees   \n",
       "46   qg7k1    35972  1330803860          adhd   \n",
       "50   t0xye    35972  1335841458        favors   \n",
       "52   tdkm5    35972  1336512252  getmotivated   \n",
       "\n",
       "                                           post_title  \\\n",
       "38  at a [4], and i have an idea i would really li...   \n",
       "46  i took my prescribed 15 mg dexedrine spansule ...   \n",
       "50  [update] motivational speech guy with a very s...   \n",
       "52  if you're feeling down/sad/depressed/unmotivat...   \n",
       "\n",
       "                                            post_body  \n",
       "38  i was talking to a friend just now and we got ...  \n",
       "46  friend: how was the midterm?massive_tunes: eas...  \n",
       "50  i've responded to all of your messages!! it's ...  \n",
       "52  for context as to why i'm doing this, look at ...  "
      ]
     },
     "execution_count": 82,
     "metadata": {},
     "output_type": "execute_result"
    }
   ],
   "source": [
    "stressed = stressed.iloc[:, 0:6]\n",
    "print(stressed.shape)\n",
    "stressed[1:5]\n"
   ]
  },
  {
   "cell_type": "code",
   "execution_count": 83,
   "metadata": {},
   "outputs": [
    {
     "name": "stdout",
     "output_type": "stream",
     "text": [
      "(971, 6)\n"
     ]
    }
   ],
   "source": [
    "SWstressed = testSW.append(stressed)\n",
    "print(SWstressed.shape)\n",
    "SWstressed.to_csv(path + 'data/clpsych19_training_data/testSWstressed.csv')"
   ]
  },
  {
   "cell_type": "code",
   "execution_count": 115,
   "metadata": {},
   "outputs": [
    {
     "name": "stdout",
     "output_type": "stream",
     "text": [
      "d    88\n",
      "c    14\n",
      "b    12\n",
      "a    11\n",
      "Name: predicted_label, dtype: int64\n"
     ]
    },
    {
     "data": {
      "text/html": [
       "<div>\n",
       "<style>\n",
       "    .dataframe thead tr:only-child th {\n",
       "        text-align: right;\n",
       "    }\n",
       "\n",
       "    .dataframe thead th {\n",
       "        text-align: left;\n",
       "    }\n",
       "\n",
       "    .dataframe tbody tr th {\n",
       "        vertical-align: top;\n",
       "    }\n",
       "</style>\n",
       "<table border=\"1\" class=\"dataframe\">\n",
       "  <thead>\n",
       "    <tr style=\"text-align: right;\">\n",
       "      <th></th>\n",
       "      <th>userid</th>\n",
       "      <th>a_score</th>\n",
       "      <th>b_score</th>\n",
       "      <th>c_score</th>\n",
       "      <th>d_score</th>\n",
       "      <th>predicted_label</th>\n",
       "    </tr>\n",
       "  </thead>\n",
       "  <tbody>\n",
       "    <tr>\n",
       "      <th>0</th>\n",
       "      <td>11442</td>\n",
       "      <td>196.124932</td>\n",
       "      <td>192.616578</td>\n",
       "      <td>189.846183</td>\n",
       "      <td>194.692313</td>\n",
       "      <td>c</td>\n",
       "    </tr>\n",
       "    <tr>\n",
       "      <th>1</th>\n",
       "      <td>35428</td>\n",
       "      <td>293.207209</td>\n",
       "      <td>179.941954</td>\n",
       "      <td>180.028062</td>\n",
       "      <td>303.571338</td>\n",
       "      <td>b</td>\n",
       "    </tr>\n",
       "  </tbody>\n",
       "</table>\n",
       "</div>"
      ],
      "text/plain": [
       "   userid     a_score     b_score     c_score     d_score predicted_label\n",
       "0   11442  196.124932  192.616578  189.846183  194.692313               c\n",
       "1   35428  293.207209  179.941954  180.028062  303.571338               b"
      ]
     },
     "execution_count": 115,
     "metadata": {},
     "output_type": "execute_result"
    }
   ],
   "source": [
    "results = pd.read_csv(path + 'data/languageModel/TestResults/test_5gram/rawish_ppl_no_oov.csv')\n",
    "print(results['predicted_label'].value_counts())\n",
    "posts = pd.read_csv(path + 'data/clpsych19_training_data/testSW.csv')\n",
    "results.head(2)"
   ]
  },
  {
   "cell_type": "code",
   "execution_count": null,
   "metadata": {
    "collapsed": true
   },
   "outputs": [],
   "source": []
  },
  {
   "cell_type": "code",
   "execution_count": 117,
   "metadata": {},
   "outputs": [],
   "source": [
    "reAll = pd.merge(results, posts, left_on = 'userid', right_on ='user_id', how = 'right')\n",
    "reAll.to_csv(path + 'data/clpsych19_training_data/testResults5_rawish_ppl_no_oov.csv')"
   ]
  },
  {
   "cell_type": "code",
   "execution_count": null,
   "metadata": {},
   "outputs": [],
   "source": []
  },
  {
   "cell_type": "code",
   "execution_count": null,
   "metadata": {
    "collapsed": true
   },
   "outputs": [],
   "source": []
  }
 ],
 "metadata": {
  "kernelspec": {
   "display_name": "Python 3",
   "language": "python",
   "name": "python3"
  },
  "language_info": {
   "codemirror_mode": {
    "name": "ipython",
    "version": 3
   },
   "file_extension": ".py",
   "mimetype": "text/x-python",
   "name": "python",
   "nbconvert_exporter": "python",
   "pygments_lexer": "ipython3",
   "version": "3.6.1"
  }
 },
 "nbformat": 4,
 "nbformat_minor": 2
}
