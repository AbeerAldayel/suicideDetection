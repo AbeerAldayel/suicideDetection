{
 "cells": [
  {
   "cell_type": "code",
   "execution_count": 1,
   "metadata": {
    "collapsed": true
   },
   "outputs": [],
   "source": [
    "import pandas as pd\n",
    "from nltk.tokenize import word_tokenize\n",
    "from sklearn.feature_extraction.text import TfidfTransformer"
   ]
  },
  {
   "cell_type": "code",
   "execution_count": 3,
   "metadata": {
    "collapsed": true
   },
   "outputs": [],
   "source": [
    "#path = '/Users/lucia/phd_work/Clpsy/'\n",
    "path = '/home/lucia/phd_work/shareTask/'"
   ]
  },
  {
   "cell_type": "code",
   "execution_count": 4,
   "metadata": {},
   "outputs": [
    {
     "name": "stdout",
     "output_type": "stream",
     "text": [
      "245388\n"
     ]
    },
    {
     "data": {
      "text/html": [
       "<div>\n",
       "<style scoped>\n",
       "    .dataframe tbody tr th:only-of-type {\n",
       "        vertical-align: middle;\n",
       "    }\n",
       "\n",
       "    .dataframe tbody tr th {\n",
       "        vertical-align: top;\n",
       "    }\n",
       "\n",
       "    .dataframe thead th {\n",
       "        text-align: right;\n",
       "    }\n",
       "</style>\n",
       "<table border=\"1\" class=\"dataframe\">\n",
       "  <thead>\n",
       "    <tr style=\"text-align: right;\">\n",
       "      <th></th>\n",
       "      <th>Unnamed: 0</th>\n",
       "      <th>user_id</th>\n",
       "      <th>postingFrequency</th>\n",
       "      <th>postingInterval</th>\n",
       "      <th>generalMoreFreq</th>\n",
       "      <th>generalWordCount</th>\n",
       "      <th>healthPostingFrequency</th>\n",
       "      <th>healthPostingInterval</th>\n",
       "      <th>healthMoreFreq</th>\n",
       "      <th>healthWordCount</th>\n",
       "      <th>mentionMethods</th>\n",
       "    </tr>\n",
       "  </thead>\n",
       "  <tbody>\n",
       "    <tr>\n",
       "      <th>1</th>\n",
       "      <td>1</td>\n",
       "      <td>22006</td>\n",
       "      <td>44</td>\n",
       "      <td>23.279070</td>\n",
       "      <td>0</td>\n",
       "      <td>104.312500</td>\n",
       "      <td>3</td>\n",
       "      <td>159.5</td>\n",
       "      <td>0</td>\n",
       "      <td>254.25</td>\n",
       "      <td>1</td>\n",
       "    </tr>\n",
       "    <tr>\n",
       "      <th>2</th>\n",
       "      <td>2</td>\n",
       "      <td>22014</td>\n",
       "      <td>27</td>\n",
       "      <td>38.038462</td>\n",
       "      <td>1</td>\n",
       "      <td>31.208333</td>\n",
       "      <td>0</td>\n",
       "      <td>0.0</td>\n",
       "      <td>0</td>\n",
       "      <td>0.00</td>\n",
       "      <td>0</td>\n",
       "    </tr>\n",
       "    <tr>\n",
       "      <th>3</th>\n",
       "      <td>3</td>\n",
       "      <td>22015</td>\n",
       "      <td>20</td>\n",
       "      <td>57.368421</td>\n",
       "      <td>1</td>\n",
       "      <td>58.727273</td>\n",
       "      <td>3</td>\n",
       "      <td>379.5</td>\n",
       "      <td>0</td>\n",
       "      <td>149.75</td>\n",
       "      <td>1</td>\n",
       "    </tr>\n",
       "    <tr>\n",
       "      <th>4</th>\n",
       "      <td>4</td>\n",
       "      <td>22023</td>\n",
       "      <td>138</td>\n",
       "      <td>11.992701</td>\n",
       "      <td>0</td>\n",
       "      <td>1.000000</td>\n",
       "      <td>5</td>\n",
       "      <td>147.0</td>\n",
       "      <td>0</td>\n",
       "      <td>114.00</td>\n",
       "      <td>1</td>\n",
       "    </tr>\n",
       "  </tbody>\n",
       "</table>\n",
       "</div>"
      ],
      "text/plain": [
       "   Unnamed: 0  user_id  postingFrequency  postingInterval  generalMoreFreq  \\\n",
       "1           1    22006                44        23.279070                0   \n",
       "2           2    22014                27        38.038462                1   \n",
       "3           3    22015                20        57.368421                1   \n",
       "4           4    22023               138        11.992701                0   \n",
       "\n",
       "   generalWordCount  healthPostingFrequency  healthPostingInterval  \\\n",
       "1        104.312500                       3                  159.5   \n",
       "2         31.208333                       0                    0.0   \n",
       "3         58.727273                       3                  379.5   \n",
       "4          1.000000                       5                  147.0   \n",
       "\n",
       "   healthMoreFreq  healthWordCount  mentionMethods  \n",
       "1               0           254.25               1  \n",
       "2               0             0.00               0  \n",
       "3               0           149.75               1  \n",
       "4               0           114.00               1  "
      ]
     },
     "execution_count": 4,
     "metadata": {},
     "output_type": "execute_result"
    }
   ],
   "source": [
    "freqFea = pd.read_csv(path + 'suicideDetection/features/FreqFea.csv')\n",
    "print(freqFea.size)\n",
    "freqFea[1:5]"
   ]
  },
  {
   "cell_type": "code",
   "execution_count": 5,
   "metadata": {
    "collapsed": true
   },
   "outputs": [],
   "source": [
    "#labels = pd.read_csv('/Users/lucia/phd_work/ClpsyData/clpsych19_training_data/crowd_train.csv')\n",
    "labels = pd.read_csv(path+ 'data/clpsych19_training_data/crowd_train.csv' )\n",
    "#assign e to control class\n",
    "labels = labels.fillna('e')\n",
    "#print(labels.shape)\n",
    "allF = pd.merge(freqFea, labels, on = 'user_id',how = 'right')\n",
    "#allF.to_csv( path +'suicideDetection/ObserveFea.csv')"
   ]
  },
  {
   "cell_type": "code",
   "execution_count": 6,
   "metadata": {},
   "outputs": [
    {
     "data": {
      "text/html": [
       "<div>\n",
       "<style scoped>\n",
       "    .dataframe tbody tr th:only-of-type {\n",
       "        vertical-align: middle;\n",
       "    }\n",
       "\n",
       "    .dataframe tbody tr th {\n",
       "        vertical-align: top;\n",
       "    }\n",
       "\n",
       "    .dataframe thead th {\n",
       "        text-align: right;\n",
       "    }\n",
       "</style>\n",
       "<table border=\"1\" class=\"dataframe\">\n",
       "  <thead>\n",
       "    <tr style=\"text-align: right;\">\n",
       "      <th></th>\n",
       "      <th>Unnamed: 0</th>\n",
       "      <th>user_id</th>\n",
       "      <th>postingFrequency</th>\n",
       "      <th>postingInterval</th>\n",
       "      <th>generalMoreFreq</th>\n",
       "      <th>generalWordCount</th>\n",
       "      <th>healthPostingFrequency</th>\n",
       "      <th>healthPostingInterval</th>\n",
       "      <th>healthMoreFreq</th>\n",
       "      <th>healthWordCount</th>\n",
       "      <th>mentionMethods</th>\n",
       "      <th>raw_label</th>\n",
       "    </tr>\n",
       "  </thead>\n",
       "  <tbody>\n",
       "    <tr>\n",
       "      <th>Unnamed: 0</th>\n",
       "      <td>1.000000</td>\n",
       "      <td>-0.745280</td>\n",
       "      <td>-0.069840</td>\n",
       "      <td>0.102042</td>\n",
       "      <td>0.020017</td>\n",
       "      <td>0.210650</td>\n",
       "      <td>-0.287045</td>\n",
       "      <td>-0.217641</td>\n",
       "      <td>-0.278780</td>\n",
       "      <td>-0.315687</td>\n",
       "      <td>-0.431874</td>\n",
       "      <td>0.871057</td>\n",
       "    </tr>\n",
       "    <tr>\n",
       "      <th>user_id</th>\n",
       "      <td>-0.745280</td>\n",
       "      <td>1.000000</td>\n",
       "      <td>0.053708</td>\n",
       "      <td>-0.123311</td>\n",
       "      <td>-0.052610</td>\n",
       "      <td>-0.190941</td>\n",
       "      <td>0.244540</td>\n",
       "      <td>0.243528</td>\n",
       "      <td>0.256826</td>\n",
       "      <td>0.334215</td>\n",
       "      <td>0.437470</td>\n",
       "      <td>-0.863848</td>\n",
       "    </tr>\n",
       "    <tr>\n",
       "      <th>postingFrequency</th>\n",
       "      <td>-0.069840</td>\n",
       "      <td>0.053708</td>\n",
       "      <td>1.000000</td>\n",
       "      <td>-0.217545</td>\n",
       "      <td>-0.160764</td>\n",
       "      <td>-0.002760</td>\n",
       "      <td>0.207535</td>\n",
       "      <td>0.094307</td>\n",
       "      <td>0.119960</td>\n",
       "      <td>0.088490</td>\n",
       "      <td>0.052350</td>\n",
       "      <td>-0.051934</td>\n",
       "    </tr>\n",
       "    <tr>\n",
       "      <th>postingInterval</th>\n",
       "      <td>0.102042</td>\n",
       "      <td>-0.123311</td>\n",
       "      <td>-0.217545</td>\n",
       "      <td>1.000000</td>\n",
       "      <td>0.156914</td>\n",
       "      <td>0.089300</td>\n",
       "      <td>-0.129792</td>\n",
       "      <td>-0.050716</td>\n",
       "      <td>-0.070599</td>\n",
       "      <td>-0.124361</td>\n",
       "      <td>-0.036222</td>\n",
       "      <td>0.118072</td>\n",
       "    </tr>\n",
       "    <tr>\n",
       "      <th>generalMoreFreq</th>\n",
       "      <td>0.020017</td>\n",
       "      <td>-0.052610</td>\n",
       "      <td>-0.160764</td>\n",
       "      <td>0.156914</td>\n",
       "      <td>1.000000</td>\n",
       "      <td>-0.060410</td>\n",
       "      <td>-0.105823</td>\n",
       "      <td>-0.056529</td>\n",
       "      <td>-0.019006</td>\n",
       "      <td>-0.050714</td>\n",
       "      <td>-0.057623</td>\n",
       "      <td>0.031912</td>\n",
       "    </tr>\n",
       "    <tr>\n",
       "      <th>generalWordCount</th>\n",
       "      <td>0.210650</td>\n",
       "      <td>-0.190941</td>\n",
       "      <td>-0.002760</td>\n",
       "      <td>0.089300</td>\n",
       "      <td>-0.060410</td>\n",
       "      <td>1.000000</td>\n",
       "      <td>-0.043440</td>\n",
       "      <td>-0.015375</td>\n",
       "      <td>-0.053404</td>\n",
       "      <td>-0.067816</td>\n",
       "      <td>-0.105905</td>\n",
       "      <td>0.241434</td>\n",
       "    </tr>\n",
       "    <tr>\n",
       "      <th>healthPostingFrequency</th>\n",
       "      <td>-0.287045</td>\n",
       "      <td>0.244540</td>\n",
       "      <td>0.207535</td>\n",
       "      <td>-0.129792</td>\n",
       "      <td>-0.105823</td>\n",
       "      <td>-0.043440</td>\n",
       "      <td>1.000000</td>\n",
       "      <td>0.111994</td>\n",
       "      <td>0.450643</td>\n",
       "      <td>0.281709</td>\n",
       "      <td>0.305542</td>\n",
       "      <td>-0.273528</td>\n",
       "    </tr>\n",
       "    <tr>\n",
       "      <th>healthPostingInterval</th>\n",
       "      <td>-0.217641</td>\n",
       "      <td>0.243528</td>\n",
       "      <td>0.094307</td>\n",
       "      <td>-0.050716</td>\n",
       "      <td>-0.056529</td>\n",
       "      <td>-0.015375</td>\n",
       "      <td>0.111994</td>\n",
       "      <td>1.000000</td>\n",
       "      <td>0.141597</td>\n",
       "      <td>0.439995</td>\n",
       "      <td>0.237163</td>\n",
       "      <td>-0.281528</td>\n",
       "    </tr>\n",
       "    <tr>\n",
       "      <th>healthMoreFreq</th>\n",
       "      <td>-0.278780</td>\n",
       "      <td>0.256826</td>\n",
       "      <td>0.119960</td>\n",
       "      <td>-0.070599</td>\n",
       "      <td>-0.019006</td>\n",
       "      <td>-0.053404</td>\n",
       "      <td>0.450643</td>\n",
       "      <td>0.141597</td>\n",
       "      <td>1.000000</td>\n",
       "      <td>0.303944</td>\n",
       "      <td>0.266511</td>\n",
       "      <td>-0.285577</td>\n",
       "    </tr>\n",
       "    <tr>\n",
       "      <th>healthWordCount</th>\n",
       "      <td>-0.315687</td>\n",
       "      <td>0.334215</td>\n",
       "      <td>0.088490</td>\n",
       "      <td>-0.124361</td>\n",
       "      <td>-0.050714</td>\n",
       "      <td>-0.067816</td>\n",
       "      <td>0.281709</td>\n",
       "      <td>0.439995</td>\n",
       "      <td>0.303944</td>\n",
       "      <td>1.000000</td>\n",
       "      <td>0.239671</td>\n",
       "      <td>-0.383654</td>\n",
       "    </tr>\n",
       "    <tr>\n",
       "      <th>mentionMethods</th>\n",
       "      <td>-0.431874</td>\n",
       "      <td>0.437470</td>\n",
       "      <td>0.052350</td>\n",
       "      <td>-0.036222</td>\n",
       "      <td>-0.057623</td>\n",
       "      <td>-0.105905</td>\n",
       "      <td>0.305542</td>\n",
       "      <td>0.237163</td>\n",
       "      <td>0.266511</td>\n",
       "      <td>0.239671</td>\n",
       "      <td>1.000000</td>\n",
       "      <td>-0.509683</td>\n",
       "    </tr>\n",
       "    <tr>\n",
       "      <th>raw_label</th>\n",
       "      <td>0.871057</td>\n",
       "      <td>-0.863848</td>\n",
       "      <td>-0.051934</td>\n",
       "      <td>0.118072</td>\n",
       "      <td>0.031912</td>\n",
       "      <td>0.241434</td>\n",
       "      <td>-0.273528</td>\n",
       "      <td>-0.281528</td>\n",
       "      <td>-0.285577</td>\n",
       "      <td>-0.383654</td>\n",
       "      <td>-0.509683</td>\n",
       "      <td>1.000000</td>\n",
       "    </tr>\n",
       "  </tbody>\n",
       "</table>\n",
       "</div>"
      ],
      "text/plain": [
       "                        Unnamed: 0   user_id  postingFrequency  \\\n",
       "Unnamed: 0                1.000000 -0.745280         -0.069840   \n",
       "user_id                  -0.745280  1.000000          0.053708   \n",
       "postingFrequency         -0.069840  0.053708          1.000000   \n",
       "postingInterval           0.102042 -0.123311         -0.217545   \n",
       "generalMoreFreq           0.020017 -0.052610         -0.160764   \n",
       "generalWordCount          0.210650 -0.190941         -0.002760   \n",
       "healthPostingFrequency   -0.287045  0.244540          0.207535   \n",
       "healthPostingInterval    -0.217641  0.243528          0.094307   \n",
       "healthMoreFreq           -0.278780  0.256826          0.119960   \n",
       "healthWordCount          -0.315687  0.334215          0.088490   \n",
       "mentionMethods           -0.431874  0.437470          0.052350   \n",
       "raw_label                 0.871057 -0.863848         -0.051934   \n",
       "\n",
       "                        postingInterval  generalMoreFreq  generalWordCount  \\\n",
       "Unnamed: 0                     0.102042         0.020017          0.210650   \n",
       "user_id                       -0.123311        -0.052610         -0.190941   \n",
       "postingFrequency              -0.217545        -0.160764         -0.002760   \n",
       "postingInterval                1.000000         0.156914          0.089300   \n",
       "generalMoreFreq                0.156914         1.000000         -0.060410   \n",
       "generalWordCount               0.089300        -0.060410          1.000000   \n",
       "healthPostingFrequency        -0.129792        -0.105823         -0.043440   \n",
       "healthPostingInterval         -0.050716        -0.056529         -0.015375   \n",
       "healthMoreFreq                -0.070599        -0.019006         -0.053404   \n",
       "healthWordCount               -0.124361        -0.050714         -0.067816   \n",
       "mentionMethods                -0.036222        -0.057623         -0.105905   \n",
       "raw_label                      0.118072         0.031912          0.241434   \n",
       "\n",
       "                        healthPostingFrequency  healthPostingInterval  \\\n",
       "Unnamed: 0                           -0.287045              -0.217641   \n",
       "user_id                               0.244540               0.243528   \n",
       "postingFrequency                      0.207535               0.094307   \n",
       "postingInterval                      -0.129792              -0.050716   \n",
       "generalMoreFreq                      -0.105823              -0.056529   \n",
       "generalWordCount                     -0.043440              -0.015375   \n",
       "healthPostingFrequency                1.000000               0.111994   \n",
       "healthPostingInterval                 0.111994               1.000000   \n",
       "healthMoreFreq                        0.450643               0.141597   \n",
       "healthWordCount                       0.281709               0.439995   \n",
       "mentionMethods                        0.305542               0.237163   \n",
       "raw_label                            -0.273528              -0.281528   \n",
       "\n",
       "                        healthMoreFreq  healthWordCount  mentionMethods  \\\n",
       "Unnamed: 0                   -0.278780        -0.315687       -0.431874   \n",
       "user_id                       0.256826         0.334215        0.437470   \n",
       "postingFrequency              0.119960         0.088490        0.052350   \n",
       "postingInterval              -0.070599        -0.124361       -0.036222   \n",
       "generalMoreFreq              -0.019006        -0.050714       -0.057623   \n",
       "generalWordCount             -0.053404        -0.067816       -0.105905   \n",
       "healthPostingFrequency        0.450643         0.281709        0.305542   \n",
       "healthPostingInterval         0.141597         0.439995        0.237163   \n",
       "healthMoreFreq                1.000000         0.303944        0.266511   \n",
       "healthWordCount               0.303944         1.000000        0.239671   \n",
       "mentionMethods                0.266511         0.239671        1.000000   \n",
       "raw_label                    -0.285577        -0.383654       -0.509683   \n",
       "\n",
       "                        raw_label  \n",
       "Unnamed: 0               0.871057  \n",
       "user_id                 -0.863848  \n",
       "postingFrequency        -0.051934  \n",
       "postingInterval          0.118072  \n",
       "generalMoreFreq          0.031912  \n",
       "generalWordCount         0.241434  \n",
       "healthPostingFrequency  -0.273528  \n",
       "healthPostingInterval   -0.281528  \n",
       "healthMoreFreq          -0.285577  \n",
       "healthWordCount         -0.383654  \n",
       "mentionMethods          -0.509683  \n",
       "raw_label                1.000000  "
      ]
     },
     "execution_count": 6,
     "metadata": {},
     "output_type": "execute_result"
    }
   ],
   "source": [
    "#let's see correlation between  SW and control\n",
    "#raw label already tells which one is control, so the correlation is high\n",
    "allF['raw_label'] = allF['raw_label'].replace(['a', 'b', 'c', 'd', 'e'], [1, 1, 1, 1, 2]) \n",
    "allF.corr()"
   ]
  },
  {
   "cell_type": "code",
   "execution_count": 7,
   "metadata": {
    "collapsed": true
   },
   "outputs": [],
   "source": [
    "#now we only select the risk class\n",
    "allF = pd.merge(freqFea, labels, on = 'user_id',how = 'right')\n",
    "allF['raw_label'] = allF['raw_label'].replace(['a', 'b', 'c', 'd', 'e'], [1, 2, 3, 4, 5]) \n",
    "selected = allF[allF['raw_label'] < 5]\n"
   ]
  },
  {
   "cell_type": "code",
   "execution_count": 8,
   "metadata": {},
   "outputs": [
    {
     "name": "stderr",
     "output_type": "stream",
     "text": [
      "/home/lucia/anaconda3/lib/python3.6/site-packages/ipykernel_launcher.py:2: SettingWithCopyWarning: \n",
      "A value is trying to be set on a copy of a slice from a DataFrame.\n",
      "Try using .loc[row_indexer,col_indexer] = value instead\n",
      "\n",
      "See the caveats in the documentation: http://pandas.pydata.org/pandas-docs/stable/indexing.html#indexing-view-versus-copy\n",
      "  \n"
     ]
    },
    {
     "data": {
      "text/html": [
       "<div>\n",
       "<style scoped>\n",
       "    .dataframe tbody tr th:only-of-type {\n",
       "        vertical-align: middle;\n",
       "    }\n",
       "\n",
       "    .dataframe tbody tr th {\n",
       "        vertical-align: top;\n",
       "    }\n",
       "\n",
       "    .dataframe thead th {\n",
       "        text-align: right;\n",
       "    }\n",
       "</style>\n",
       "<table border=\"1\" class=\"dataframe\">\n",
       "  <thead>\n",
       "    <tr style=\"text-align: right;\">\n",
       "      <th></th>\n",
       "      <th>Unnamed: 0</th>\n",
       "      <th>user_id</th>\n",
       "      <th>postingFrequency</th>\n",
       "      <th>postingInterval</th>\n",
       "      <th>generalMoreFreq</th>\n",
       "      <th>generalWordCount</th>\n",
       "      <th>healthPostingFrequency</th>\n",
       "      <th>healthPostingInterval</th>\n",
       "      <th>healthMoreFreq</th>\n",
       "      <th>healthWordCount</th>\n",
       "      <th>mentionMethods</th>\n",
       "      <th>raw_label</th>\n",
       "    </tr>\n",
       "  </thead>\n",
       "  <tbody>\n",
       "    <tr>\n",
       "      <th>Unnamed: 0</th>\n",
       "      <td>1.000000</td>\n",
       "      <td>-0.013388</td>\n",
       "      <td>-0.056022</td>\n",
       "      <td>0.048893</td>\n",
       "      <td>-0.037471</td>\n",
       "      <td>-0.008979</td>\n",
       "      <td>-0.143462</td>\n",
       "      <td>0.081731</td>\n",
       "      <td>-0.099477</td>\n",
       "      <td>0.051577</td>\n",
       "      <td>0.038069</td>\n",
       "      <td>0.040782</td>\n",
       "    </tr>\n",
       "    <tr>\n",
       "      <th>user_id</th>\n",
       "      <td>-0.013388</td>\n",
       "      <td>1.000000</td>\n",
       "      <td>0.038646</td>\n",
       "      <td>0.002519</td>\n",
       "      <td>-0.062239</td>\n",
       "      <td>0.048660</td>\n",
       "      <td>0.026460</td>\n",
       "      <td>-0.011334</td>\n",
       "      <td>0.019459</td>\n",
       "      <td>0.013395</td>\n",
       "      <td>-0.009531</td>\n",
       "      <td>-0.038211</td>\n",
       "    </tr>\n",
       "    <tr>\n",
       "      <th>postingFrequency</th>\n",
       "      <td>-0.056022</td>\n",
       "      <td>0.038646</td>\n",
       "      <td>1.000000</td>\n",
       "      <td>-0.380079</td>\n",
       "      <td>-0.271637</td>\n",
       "      <td>0.067116</td>\n",
       "      <td>0.389477</td>\n",
       "      <td>0.123048</td>\n",
       "      <td>0.192301</td>\n",
       "      <td>0.108689</td>\n",
       "      <td>0.061198</td>\n",
       "      <td>-0.007305</td>\n",
       "    </tr>\n",
       "    <tr>\n",
       "      <th>postingInterval</th>\n",
       "      <td>0.048893</td>\n",
       "      <td>0.002519</td>\n",
       "      <td>-0.380079</td>\n",
       "      <td>1.000000</td>\n",
       "      <td>0.196679</td>\n",
       "      <td>-0.032103</td>\n",
       "      <td>-0.156386</td>\n",
       "      <td>0.014346</td>\n",
       "      <td>-0.055583</td>\n",
       "      <td>-0.120095</td>\n",
       "      <td>0.046750</td>\n",
       "      <td>-0.036449</td>\n",
       "    </tr>\n",
       "    <tr>\n",
       "      <th>generalMoreFreq</th>\n",
       "      <td>-0.037471</td>\n",
       "      <td>-0.062239</td>\n",
       "      <td>-0.271637</td>\n",
       "      <td>0.196679</td>\n",
       "      <td>1.000000</td>\n",
       "      <td>-0.073470</td>\n",
       "      <td>-0.134849</td>\n",
       "      <td>-0.053965</td>\n",
       "      <td>0.014884</td>\n",
       "      <td>-0.056976</td>\n",
       "      <td>-0.065821</td>\n",
       "      <td>0.001327</td>\n",
       "    </tr>\n",
       "    <tr>\n",
       "      <th>generalWordCount</th>\n",
       "      <td>-0.008979</td>\n",
       "      <td>0.048660</td>\n",
       "      <td>0.067116</td>\n",
       "      <td>-0.032103</td>\n",
       "      <td>-0.073470</td>\n",
       "      <td>1.000000</td>\n",
       "      <td>0.028411</td>\n",
       "      <td>0.074579</td>\n",
       "      <td>0.012679</td>\n",
       "      <td>0.023354</td>\n",
       "      <td>0.030195</td>\n",
       "      <td>-0.057884</td>\n",
       "    </tr>\n",
       "    <tr>\n",
       "      <th>healthPostingFrequency</th>\n",
       "      <td>-0.143462</td>\n",
       "      <td>0.026460</td>\n",
       "      <td>0.389477</td>\n",
       "      <td>-0.156386</td>\n",
       "      <td>-0.134849</td>\n",
       "      <td>0.028411</td>\n",
       "      <td>1.000000</td>\n",
       "      <td>0.012622</td>\n",
       "      <td>0.406249</td>\n",
       "      <td>0.188263</td>\n",
       "      <td>0.201855</td>\n",
       "      <td>0.176687</td>\n",
       "    </tr>\n",
       "    <tr>\n",
       "      <th>healthPostingInterval</th>\n",
       "      <td>0.081731</td>\n",
       "      <td>-0.011334</td>\n",
       "      <td>0.123048</td>\n",
       "      <td>0.014346</td>\n",
       "      <td>-0.053965</td>\n",
       "      <td>0.074579</td>\n",
       "      <td>0.012622</td>\n",
       "      <td>1.000000</td>\n",
       "      <td>0.058725</td>\n",
       "      <td>0.359925</td>\n",
       "      <td>0.129084</td>\n",
       "      <td>-0.054990</td>\n",
       "    </tr>\n",
       "    <tr>\n",
       "      <th>healthMoreFreq</th>\n",
       "      <td>-0.099477</td>\n",
       "      <td>0.019459</td>\n",
       "      <td>0.192301</td>\n",
       "      <td>-0.055583</td>\n",
       "      <td>0.014884</td>\n",
       "      <td>0.012679</td>\n",
       "      <td>0.406249</td>\n",
       "      <td>0.058725</td>\n",
       "      <td>1.000000</td>\n",
       "      <td>0.210601</td>\n",
       "      <td>0.151030</td>\n",
       "      <td>0.121501</td>\n",
       "    </tr>\n",
       "    <tr>\n",
       "      <th>healthWordCount</th>\n",
       "      <td>0.051577</td>\n",
       "      <td>0.013395</td>\n",
       "      <td>0.108689</td>\n",
       "      <td>-0.120095</td>\n",
       "      <td>-0.056976</td>\n",
       "      <td>0.023354</td>\n",
       "      <td>0.188263</td>\n",
       "      <td>0.359925</td>\n",
       "      <td>0.210601</td>\n",
       "      <td>1.000000</td>\n",
       "      <td>0.059691</td>\n",
       "      <td>0.006132</td>\n",
       "    </tr>\n",
       "    <tr>\n",
       "      <th>mentionMethods</th>\n",
       "      <td>0.038069</td>\n",
       "      <td>-0.009531</td>\n",
       "      <td>0.061198</td>\n",
       "      <td>0.046750</td>\n",
       "      <td>-0.065821</td>\n",
       "      <td>0.030195</td>\n",
       "      <td>0.201855</td>\n",
       "      <td>0.129084</td>\n",
       "      <td>0.151030</td>\n",
       "      <td>0.059691</td>\n",
       "      <td>1.000000</td>\n",
       "      <td>0.256812</td>\n",
       "    </tr>\n",
       "    <tr>\n",
       "      <th>raw_label</th>\n",
       "      <td>0.040782</td>\n",
       "      <td>-0.038211</td>\n",
       "      <td>-0.007305</td>\n",
       "      <td>-0.036449</td>\n",
       "      <td>0.001327</td>\n",
       "      <td>-0.057884</td>\n",
       "      <td>0.176687</td>\n",
       "      <td>-0.054990</td>\n",
       "      <td>0.121501</td>\n",
       "      <td>0.006132</td>\n",
       "      <td>0.256812</td>\n",
       "      <td>1.000000</td>\n",
       "    </tr>\n",
       "  </tbody>\n",
       "</table>\n",
       "</div>"
      ],
      "text/plain": [
       "                        Unnamed: 0   user_id  postingFrequency  \\\n",
       "Unnamed: 0                1.000000 -0.013388         -0.056022   \n",
       "user_id                  -0.013388  1.000000          0.038646   \n",
       "postingFrequency         -0.056022  0.038646          1.000000   \n",
       "postingInterval           0.048893  0.002519         -0.380079   \n",
       "generalMoreFreq          -0.037471 -0.062239         -0.271637   \n",
       "generalWordCount         -0.008979  0.048660          0.067116   \n",
       "healthPostingFrequency   -0.143462  0.026460          0.389477   \n",
       "healthPostingInterval     0.081731 -0.011334          0.123048   \n",
       "healthMoreFreq           -0.099477  0.019459          0.192301   \n",
       "healthWordCount           0.051577  0.013395          0.108689   \n",
       "mentionMethods            0.038069 -0.009531          0.061198   \n",
       "raw_label                 0.040782 -0.038211         -0.007305   \n",
       "\n",
       "                        postingInterval  generalMoreFreq  generalWordCount  \\\n",
       "Unnamed: 0                     0.048893        -0.037471         -0.008979   \n",
       "user_id                        0.002519        -0.062239          0.048660   \n",
       "postingFrequency              -0.380079        -0.271637          0.067116   \n",
       "postingInterval                1.000000         0.196679         -0.032103   \n",
       "generalMoreFreq                0.196679         1.000000         -0.073470   \n",
       "generalWordCount              -0.032103        -0.073470          1.000000   \n",
       "healthPostingFrequency        -0.156386        -0.134849          0.028411   \n",
       "healthPostingInterval          0.014346        -0.053965          0.074579   \n",
       "healthMoreFreq                -0.055583         0.014884          0.012679   \n",
       "healthWordCount               -0.120095        -0.056976          0.023354   \n",
       "mentionMethods                 0.046750        -0.065821          0.030195   \n",
       "raw_label                     -0.036449         0.001327         -0.057884   \n",
       "\n",
       "                        healthPostingFrequency  healthPostingInterval  \\\n",
       "Unnamed: 0                           -0.143462               0.081731   \n",
       "user_id                               0.026460              -0.011334   \n",
       "postingFrequency                      0.389477               0.123048   \n",
       "postingInterval                      -0.156386               0.014346   \n",
       "generalMoreFreq                      -0.134849              -0.053965   \n",
       "generalWordCount                      0.028411               0.074579   \n",
       "healthPostingFrequency                1.000000               0.012622   \n",
       "healthPostingInterval                 0.012622               1.000000   \n",
       "healthMoreFreq                        0.406249               0.058725   \n",
       "healthWordCount                       0.188263               0.359925   \n",
       "mentionMethods                        0.201855               0.129084   \n",
       "raw_label                             0.176687              -0.054990   \n",
       "\n",
       "                        healthMoreFreq  healthWordCount  mentionMethods  \\\n",
       "Unnamed: 0                   -0.099477         0.051577        0.038069   \n",
       "user_id                       0.019459         0.013395       -0.009531   \n",
       "postingFrequency              0.192301         0.108689        0.061198   \n",
       "postingInterval              -0.055583        -0.120095        0.046750   \n",
       "generalMoreFreq               0.014884        -0.056976       -0.065821   \n",
       "generalWordCount              0.012679         0.023354        0.030195   \n",
       "healthPostingFrequency        0.406249         0.188263        0.201855   \n",
       "healthPostingInterval         0.058725         0.359925        0.129084   \n",
       "healthMoreFreq                1.000000         0.210601        0.151030   \n",
       "healthWordCount               0.210601         1.000000        0.059691   \n",
       "mentionMethods                0.151030         0.059691        1.000000   \n",
       "raw_label                     0.121501         0.006132        0.256812   \n",
       "\n",
       "                        raw_label  \n",
       "Unnamed: 0               0.040782  \n",
       "user_id                 -0.038211  \n",
       "postingFrequency        -0.007305  \n",
       "postingInterval         -0.036449  \n",
       "generalMoreFreq          0.001327  \n",
       "generalWordCount        -0.057884  \n",
       "healthPostingFrequency   0.176687  \n",
       "healthPostingInterval   -0.054990  \n",
       "healthMoreFreq           0.121501  \n",
       "healthWordCount          0.006132  \n",
       "mentionMethods           0.256812  \n",
       "raw_label                1.000000  "
      ]
     },
     "execution_count": 8,
     "metadata": {},
     "output_type": "execute_result"
    }
   ],
   "source": [
    "#let's observe highest risk to all \n",
    "selected['raw_label'] = selected['raw_label'].replace([1, 2, 3, 4], [1, 1, 1, 2]) \n",
    "selected.corr()"
   ]
  },
  {
   "cell_type": "code",
   "execution_count": 128,
   "metadata": {},
   "outputs": [
    {
     "data": {
      "text/html": [
       "<div>\n",
       "<style scoped>\n",
       "    .dataframe tbody tr th:only-of-type {\n",
       "        vertical-align: middle;\n",
       "    }\n",
       "\n",
       "    .dataframe tbody tr th {\n",
       "        vertical-align: top;\n",
       "    }\n",
       "\n",
       "    .dataframe thead th {\n",
       "        text-align: right;\n",
       "    }\n",
       "</style>\n",
       "<table border=\"1\" class=\"dataframe\">\n",
       "  <thead>\n",
       "    <tr style=\"text-align: right;\">\n",
       "      <th></th>\n",
       "      <th>Unnamed: 0</th>\n",
       "      <th>user_id</th>\n",
       "      <th>postingFrequency</th>\n",
       "      <th>postingInterval</th>\n",
       "      <th>generalMoreFreq</th>\n",
       "      <th>generalWordCount</th>\n",
       "      <th>healthPostingFrequency</th>\n",
       "      <th>healthPostingInterval</th>\n",
       "      <th>healthMoreFreq</th>\n",
       "      <th>healthWordCount</th>\n",
       "      <th>mentionMethods</th>\n",
       "      <th>raw_label</th>\n",
       "    </tr>\n",
       "  </thead>\n",
       "  <tbody>\n",
       "    <tr>\n",
       "      <th>Unnamed: 0</th>\n",
       "      <td>1.000000</td>\n",
       "      <td>-0.013388</td>\n",
       "      <td>-0.056022</td>\n",
       "      <td>0.048893</td>\n",
       "      <td>-0.037471</td>\n",
       "      <td>-0.008979</td>\n",
       "      <td>-0.143462</td>\n",
       "      <td>0.081731</td>\n",
       "      <td>-0.099477</td>\n",
       "      <td>0.051577</td>\n",
       "      <td>0.038069</td>\n",
       "      <td>0.075589</td>\n",
       "    </tr>\n",
       "    <tr>\n",
       "      <th>user_id</th>\n",
       "      <td>-0.013388</td>\n",
       "      <td>1.000000</td>\n",
       "      <td>0.038646</td>\n",
       "      <td>0.002519</td>\n",
       "      <td>-0.062239</td>\n",
       "      <td>0.048660</td>\n",
       "      <td>0.026460</td>\n",
       "      <td>-0.011334</td>\n",
       "      <td>0.019459</td>\n",
       "      <td>0.013395</td>\n",
       "      <td>-0.009531</td>\n",
       "      <td>-0.038189</td>\n",
       "    </tr>\n",
       "    <tr>\n",
       "      <th>postingFrequency</th>\n",
       "      <td>-0.056022</td>\n",
       "      <td>0.038646</td>\n",
       "      <td>1.000000</td>\n",
       "      <td>-0.380079</td>\n",
       "      <td>-0.271637</td>\n",
       "      <td>0.067116</td>\n",
       "      <td>0.389477</td>\n",
       "      <td>0.123048</td>\n",
       "      <td>0.192301</td>\n",
       "      <td>0.108689</td>\n",
       "      <td>0.061198</td>\n",
       "      <td>-0.060779</td>\n",
       "    </tr>\n",
       "    <tr>\n",
       "      <th>postingInterval</th>\n",
       "      <td>0.048893</td>\n",
       "      <td>0.002519</td>\n",
       "      <td>-0.380079</td>\n",
       "      <td>1.000000</td>\n",
       "      <td>0.196679</td>\n",
       "      <td>-0.032103</td>\n",
       "      <td>-0.156386</td>\n",
       "      <td>0.014346</td>\n",
       "      <td>-0.055583</td>\n",
       "      <td>-0.120095</td>\n",
       "      <td>0.046750</td>\n",
       "      <td>-0.023466</td>\n",
       "    </tr>\n",
       "    <tr>\n",
       "      <th>generalMoreFreq</th>\n",
       "      <td>-0.037471</td>\n",
       "      <td>-0.062239</td>\n",
       "      <td>-0.271637</td>\n",
       "      <td>0.196679</td>\n",
       "      <td>1.000000</td>\n",
       "      <td>-0.073470</td>\n",
       "      <td>-0.134849</td>\n",
       "      <td>-0.053965</td>\n",
       "      <td>0.014884</td>\n",
       "      <td>-0.056976</td>\n",
       "      <td>-0.065821</td>\n",
       "      <td>0.075024</td>\n",
       "    </tr>\n",
       "    <tr>\n",
       "      <th>generalWordCount</th>\n",
       "      <td>-0.008979</td>\n",
       "      <td>0.048660</td>\n",
       "      <td>0.067116</td>\n",
       "      <td>-0.032103</td>\n",
       "      <td>-0.073470</td>\n",
       "      <td>1.000000</td>\n",
       "      <td>0.028411</td>\n",
       "      <td>0.074579</td>\n",
       "      <td>0.012679</td>\n",
       "      <td>0.023354</td>\n",
       "      <td>0.030195</td>\n",
       "      <td>-0.070732</td>\n",
       "    </tr>\n",
       "    <tr>\n",
       "      <th>healthPostingFrequency</th>\n",
       "      <td>-0.143462</td>\n",
       "      <td>0.026460</td>\n",
       "      <td>0.389477</td>\n",
       "      <td>-0.156386</td>\n",
       "      <td>-0.134849</td>\n",
       "      <td>0.028411</td>\n",
       "      <td>1.000000</td>\n",
       "      <td>0.012622</td>\n",
       "      <td>0.406249</td>\n",
       "      <td>0.188263</td>\n",
       "      <td>0.201855</td>\n",
       "      <td>0.166956</td>\n",
       "    </tr>\n",
       "    <tr>\n",
       "      <th>healthPostingInterval</th>\n",
       "      <td>0.081731</td>\n",
       "      <td>-0.011334</td>\n",
       "      <td>0.123048</td>\n",
       "      <td>0.014346</td>\n",
       "      <td>-0.053965</td>\n",
       "      <td>0.074579</td>\n",
       "      <td>0.012622</td>\n",
       "      <td>1.000000</td>\n",
       "      <td>0.058725</td>\n",
       "      <td>0.359925</td>\n",
       "      <td>0.129084</td>\n",
       "      <td>-0.011432</td>\n",
       "    </tr>\n",
       "    <tr>\n",
       "      <th>healthMoreFreq</th>\n",
       "      <td>-0.099477</td>\n",
       "      <td>0.019459</td>\n",
       "      <td>0.192301</td>\n",
       "      <td>-0.055583</td>\n",
       "      <td>0.014884</td>\n",
       "      <td>0.012679</td>\n",
       "      <td>0.406249</td>\n",
       "      <td>0.058725</td>\n",
       "      <td>1.000000</td>\n",
       "      <td>0.210601</td>\n",
       "      <td>0.151030</td>\n",
       "      <td>0.142213</td>\n",
       "    </tr>\n",
       "    <tr>\n",
       "      <th>healthWordCount</th>\n",
       "      <td>0.051577</td>\n",
       "      <td>0.013395</td>\n",
       "      <td>0.108689</td>\n",
       "      <td>-0.120095</td>\n",
       "      <td>-0.056976</td>\n",
       "      <td>0.023354</td>\n",
       "      <td>0.188263</td>\n",
       "      <td>0.359925</td>\n",
       "      <td>0.210601</td>\n",
       "      <td>1.000000</td>\n",
       "      <td>0.059691</td>\n",
       "      <td>0.042622</td>\n",
       "    </tr>\n",
       "    <tr>\n",
       "      <th>mentionMethods</th>\n",
       "      <td>0.038069</td>\n",
       "      <td>-0.009531</td>\n",
       "      <td>0.061198</td>\n",
       "      <td>0.046750</td>\n",
       "      <td>-0.065821</td>\n",
       "      <td>0.030195</td>\n",
       "      <td>0.201855</td>\n",
       "      <td>0.129084</td>\n",
       "      <td>0.151030</td>\n",
       "      <td>0.059691</td>\n",
       "      <td>1.000000</td>\n",
       "      <td>0.237135</td>\n",
       "    </tr>\n",
       "    <tr>\n",
       "      <th>raw_label</th>\n",
       "      <td>0.075589</td>\n",
       "      <td>-0.038189</td>\n",
       "      <td>-0.060779</td>\n",
       "      <td>-0.023466</td>\n",
       "      <td>0.075024</td>\n",
       "      <td>-0.070732</td>\n",
       "      <td>0.166956</td>\n",
       "      <td>-0.011432</td>\n",
       "      <td>0.142213</td>\n",
       "      <td>0.042622</td>\n",
       "      <td>0.237135</td>\n",
       "      <td>1.000000</td>\n",
       "    </tr>\n",
       "  </tbody>\n",
       "</table>\n",
       "</div>"
      ],
      "text/plain": [
       "                        Unnamed: 0   user_id  postingFrequency  \\\n",
       "Unnamed: 0                1.000000 -0.013388         -0.056022   \n",
       "user_id                  -0.013388  1.000000          0.038646   \n",
       "postingFrequency         -0.056022  0.038646          1.000000   \n",
       "postingInterval           0.048893  0.002519         -0.380079   \n",
       "generalMoreFreq          -0.037471 -0.062239         -0.271637   \n",
       "generalWordCount         -0.008979  0.048660          0.067116   \n",
       "healthPostingFrequency   -0.143462  0.026460          0.389477   \n",
       "healthPostingInterval     0.081731 -0.011334          0.123048   \n",
       "healthMoreFreq           -0.099477  0.019459          0.192301   \n",
       "healthWordCount           0.051577  0.013395          0.108689   \n",
       "mentionMethods            0.038069 -0.009531          0.061198   \n",
       "raw_label                 0.075589 -0.038189         -0.060779   \n",
       "\n",
       "                        postingInterval  generalMoreFreq  generalWordCount  \\\n",
       "Unnamed: 0                     0.048893        -0.037471         -0.008979   \n",
       "user_id                        0.002519        -0.062239          0.048660   \n",
       "postingFrequency              -0.380079        -0.271637          0.067116   \n",
       "postingInterval                1.000000         0.196679         -0.032103   \n",
       "generalMoreFreq                0.196679         1.000000         -0.073470   \n",
       "generalWordCount              -0.032103        -0.073470          1.000000   \n",
       "healthPostingFrequency        -0.156386        -0.134849          0.028411   \n",
       "healthPostingInterval          0.014346        -0.053965          0.074579   \n",
       "healthMoreFreq                -0.055583         0.014884          0.012679   \n",
       "healthWordCount               -0.120095        -0.056976          0.023354   \n",
       "mentionMethods                 0.046750        -0.065821          0.030195   \n",
       "raw_label                     -0.023466         0.075024         -0.070732   \n",
       "\n",
       "                        healthPostingFrequency  healthPostingInterval  \\\n",
       "Unnamed: 0                           -0.143462               0.081731   \n",
       "user_id                               0.026460              -0.011334   \n",
       "postingFrequency                      0.389477               0.123048   \n",
       "postingInterval                      -0.156386               0.014346   \n",
       "generalMoreFreq                      -0.134849              -0.053965   \n",
       "generalWordCount                      0.028411               0.074579   \n",
       "healthPostingFrequency                1.000000               0.012622   \n",
       "healthPostingInterval                 0.012622               1.000000   \n",
       "healthMoreFreq                        0.406249               0.058725   \n",
       "healthWordCount                       0.188263               0.359925   \n",
       "mentionMethods                        0.201855               0.129084   \n",
       "raw_label                             0.166956              -0.011432   \n",
       "\n",
       "                        healthMoreFreq  healthWordCount  mentionMethods  \\\n",
       "Unnamed: 0                   -0.099477         0.051577        0.038069   \n",
       "user_id                       0.019459         0.013395       -0.009531   \n",
       "postingFrequency              0.192301         0.108689        0.061198   \n",
       "postingInterval              -0.055583        -0.120095        0.046750   \n",
       "generalMoreFreq               0.014884        -0.056976       -0.065821   \n",
       "generalWordCount              0.012679         0.023354        0.030195   \n",
       "healthPostingFrequency        0.406249         0.188263        0.201855   \n",
       "healthPostingInterval         0.058725         0.359925        0.129084   \n",
       "healthMoreFreq                1.000000         0.210601        0.151030   \n",
       "healthWordCount               0.210601         1.000000        0.059691   \n",
       "mentionMethods                0.151030         0.059691        1.000000   \n",
       "raw_label                     0.142213         0.042622        0.237135   \n",
       "\n",
       "                        raw_label  \n",
       "Unnamed: 0               0.075589  \n",
       "user_id                 -0.038189  \n",
       "postingFrequency        -0.060779  \n",
       "postingInterval         -0.023466  \n",
       "generalMoreFreq          0.075024  \n",
       "generalWordCount        -0.070732  \n",
       "healthPostingFrequency   0.166956  \n",
       "healthPostingInterval   -0.011432  \n",
       "healthMoreFreq           0.142213  \n",
       "healthWordCount          0.042622  \n",
       "mentionMethods           0.237135  \n",
       "raw_label                1.000000  "
      ]
     },
     "execution_count": 128,
     "metadata": {},
     "output_type": "execute_result"
    }
   ],
   "source": [
    "allF = pd.merge(freqFea, labels, on = 'user_id',how = 'right')\n",
    "allF['raw_label'] = allF['raw_label'].replace(['a', 'b', 'c', 'd', 'e'], [1, 2, 3, 4, 5]) \n",
    "selected = allF[allF['raw_label'] < 5]\n",
    "selected.corr()"
   ]
  },
  {
   "cell_type": "code",
   "execution_count": 9,
   "metadata": {},
   "outputs": [
    {
     "name": "stderr",
     "output_type": "stream",
     "text": [
      "/home/lucia/anaconda3/lib/python3.6/site-packages/statsmodels/compat/pandas.py:56: FutureWarning: The pandas.core.datetools module is deprecated and will be removed in a future version. Please use the pandas.tseries module instead.\n",
      "  from pandas.core import datetools\n"
     ]
    },
    {
     "data": {
      "text/html": [
       "<table class=\"simpletable\">\n",
       "<caption>OLS Regression Results</caption>\n",
       "<tr>\n",
       "  <th>Dep. Variable:</th>        <td>raw_label</td>    <th>  R-squared:         </th> <td>   0.789</td> \n",
       "</tr>\n",
       "<tr>\n",
       "  <th>Model:</th>                   <td>OLS</td>       <th>  Adj. R-squared:    </th> <td>   0.785</td> \n",
       "</tr>\n",
       "<tr>\n",
       "  <th>Method:</th>             <td>Least Squares</td>  <th>  F-statistic:       </th> <td>   226.1</td> \n",
       "</tr>\n",
       "<tr>\n",
       "  <th>Date:</th>             <td>Fri, 08 Mar 2019</td> <th>  Prob (F-statistic):</th> <td>1.34e-177</td>\n",
       "</tr>\n",
       "<tr>\n",
       "  <th>Time:</th>                 <td>16:48:24</td>     <th>  Log-Likelihood:    </th> <td> -597.63</td> \n",
       "</tr>\n",
       "<tr>\n",
       "  <th>No. Observations:</th>      <td>   554</td>      <th>  AIC:               </th> <td>   1213.</td> \n",
       "</tr>\n",
       "<tr>\n",
       "  <th>Df Residuals:</th>          <td>   545</td>      <th>  BIC:               </th> <td>   1252.</td> \n",
       "</tr>\n",
       "<tr>\n",
       "  <th>Df Model:</th>              <td>     9</td>      <th>                     </th>     <td> </td>    \n",
       "</tr>\n",
       "<tr>\n",
       "  <th>Covariance Type:</th>      <td>nonrobust</td>    <th>                     </th>     <td> </td>    \n",
       "</tr>\n",
       "</table>\n",
       "<table class=\"simpletable\">\n",
       "<tr>\n",
       "             <td></td>               <th>coef</th>     <th>std err</th>      <th>t</th>      <th>P>|t|</th>  <th>[0.025</th>    <th>0.975]</th>  \n",
       "</tr>\n",
       "<tr>\n",
       "  <th>postingFrequency</th>       <td>    0.0023</td> <td>    0.000</td> <td>    7.378</td> <td> 0.000</td> <td>    0.002</td> <td>    0.003</td>\n",
       "</tr>\n",
       "<tr>\n",
       "  <th>postingInterval</th>        <td>    0.0140</td> <td>    0.001</td> <td>    9.814</td> <td> 0.000</td> <td>    0.011</td> <td>    0.017</td>\n",
       "</tr>\n",
       "<tr>\n",
       "  <th>generalMoreFreq</th>        <td>    0.5910</td> <td>    0.056</td> <td>   10.502</td> <td> 0.000</td> <td>    0.480</td> <td>    0.702</td>\n",
       "</tr>\n",
       "<tr>\n",
       "  <th>generalWordCount</th>       <td>    0.0014</td> <td>    0.000</td> <td>    3.020</td> <td> 0.003</td> <td>    0.001</td> <td>    0.002</td>\n",
       "</tr>\n",
       "<tr>\n",
       "  <th>healthPostingFrequency</th> <td>    0.0063</td> <td>    0.003</td> <td>    2.110</td> <td> 0.035</td> <td>    0.000</td> <td>    0.012</td>\n",
       "</tr>\n",
       "<tr>\n",
       "  <th>healthPostingInterval</th>  <td>   -0.0002</td> <td>    0.000</td> <td>   -0.632</td> <td> 0.528</td> <td>   -0.001</td> <td>    0.000</td>\n",
       "</tr>\n",
       "<tr>\n",
       "  <th>healthMoreFreq</th>         <td>    0.0433</td> <td>    0.088</td> <td>    0.492</td> <td> 0.623</td> <td>   -0.130</td> <td>    0.216</td>\n",
       "</tr>\n",
       "<tr>\n",
       "  <th>healthWordCount</th>        <td>    0.0006</td> <td>    0.000</td> <td>    4.628</td> <td> 0.000</td> <td>    0.000</td> <td>    0.001</td>\n",
       "</tr>\n",
       "<tr>\n",
       "  <th>mentionMethods</th>         <td>    0.5338</td> <td>    0.062</td> <td>    8.640</td> <td> 0.000</td> <td>    0.412</td> <td>    0.655</td>\n",
       "</tr>\n",
       "</table>\n",
       "<table class=\"simpletable\">\n",
       "<tr>\n",
       "  <th>Omnibus:</th>       <td> 3.867</td> <th>  Durbin-Watson:     </th> <td>   1.542</td>\n",
       "</tr>\n",
       "<tr>\n",
       "  <th>Prob(Omnibus):</th> <td> 0.145</td> <th>  Jarque-Bera (JB):  </th> <td>   3.617</td>\n",
       "</tr>\n",
       "<tr>\n",
       "  <th>Skew:</th>          <td>-0.143</td> <th>  Prob(JB):          </th> <td>   0.164</td>\n",
       "</tr>\n",
       "<tr>\n",
       "  <th>Kurtosis:</th>      <td> 2.726</td> <th>  Cond. No.          </th> <td>    918.</td>\n",
       "</tr>\n",
       "</table>"
      ],
      "text/plain": [
       "<class 'statsmodels.iolib.summary.Summary'>\n",
       "\"\"\"\n",
       "                            OLS Regression Results                            \n",
       "==============================================================================\n",
       "Dep. Variable:              raw_label   R-squared:                       0.789\n",
       "Model:                            OLS   Adj. R-squared:                  0.785\n",
       "Method:                 Least Squares   F-statistic:                     226.1\n",
       "Date:                Fri, 08 Mar 2019   Prob (F-statistic):          1.34e-177\n",
       "Time:                        16:48:24   Log-Likelihood:                -597.63\n",
       "No. Observations:                 554   AIC:                             1213.\n",
       "Df Residuals:                     545   BIC:                             1252.\n",
       "Df Model:                           9                                         \n",
       "Covariance Type:            nonrobust                                         \n",
       "==========================================================================================\n",
       "                             coef    std err          t      P>|t|      [0.025      0.975]\n",
       "------------------------------------------------------------------------------------------\n",
       "postingFrequency           0.0023      0.000      7.378      0.000       0.002       0.003\n",
       "postingInterval            0.0140      0.001      9.814      0.000       0.011       0.017\n",
       "generalMoreFreq            0.5910      0.056     10.502      0.000       0.480       0.702\n",
       "generalWordCount           0.0014      0.000      3.020      0.003       0.001       0.002\n",
       "healthPostingFrequency     0.0063      0.003      2.110      0.035       0.000       0.012\n",
       "healthPostingInterval     -0.0002      0.000     -0.632      0.528      -0.001       0.000\n",
       "healthMoreFreq             0.0433      0.088      0.492      0.623      -0.130       0.216\n",
       "healthWordCount            0.0006      0.000      4.628      0.000       0.000       0.001\n",
       "mentionMethods             0.5338      0.062      8.640      0.000       0.412       0.655\n",
       "==============================================================================\n",
       "Omnibus:                        3.867   Durbin-Watson:                   1.542\n",
       "Prob(Omnibus):                  0.145   Jarque-Bera (JB):                3.617\n",
       "Skew:                          -0.143   Prob(JB):                        0.164\n",
       "Kurtosis:                       2.726   Cond. No.                         918.\n",
       "==============================================================================\n",
       "\n",
       "Warnings:\n",
       "[1] Standard Errors assume that the covariance matrix of the errors is correctly specified.\n",
       "\"\"\""
      ]
     },
     "execution_count": 9,
     "metadata": {},
     "output_type": "execute_result"
    }
   ],
   "source": [
    "#let's do regression\n",
    "import statsmodels.api as sm\n",
    "X = selected.iloc[:,2:11]\n",
    "y = selected.raw_label\n",
    "# Fit and make the predictions by the model\n",
    "model = sm.OLS(y, X).fit()\n",
    "predictions = model.predict(X)\n",
    "# Print out the statistics\n",
    "model.summary()"
   ]
  },
  {
   "cell_type": "markdown",
   "metadata": {},
   "source": [
    "let's try predict highest risk only"
   ]
  },
  {
   "cell_type": "code",
   "execution_count": 10,
   "metadata": {},
   "outputs": [
    {
     "name": "stderr",
     "output_type": "stream",
     "text": [
      "/home/lucia/anaconda3/lib/python3.6/site-packages/ipykernel_launcher.py:24: SettingWithCopyWarning: \n",
      "A value is trying to be set on a copy of a slice from a DataFrame.\n",
      "Try using .loc[row_indexer,col_indexer] = value instead\n",
      "\n",
      "See the caveats in the documentation: http://pandas.pydata.org/pandas-docs/stable/indexing.html#indexing-view-versus-copy\n"
     ]
    },
    {
     "name": "stdout",
     "output_type": "stream",
     "text": [
      "Best scores and best parameters\n",
      "0.6459948320413437\n",
      "{'sgdclassifier__alpha': 0.001, 'sgdclassifier__class_weight': 'balanced', 'sgdclassifier__loss': 'modified_huber', 'sgdclassifier__penalty': 'l1'}\n",
      "              precision    recall  f1-score   support\n",
      "\n",
      "           1       0.59      0.70      0.64        84\n",
      "           2       0.63      0.51      0.56        83\n",
      "\n",
      "   micro avg       0.60      0.60      0.60       167\n",
      "   macro avg       0.61      0.60      0.60       167\n",
      "weighted avg       0.61      0.60      0.60       167\n",
      "\n"
     ]
    },
    {
     "name": "stderr",
     "output_type": "stream",
     "text": [
      "/home/lucia/anaconda3/lib/python3.6/site-packages/sklearn/model_selection/_search.py:841: DeprecationWarning: The default of the `iid` parameter will change from True to False in version 0.22 and will be removed in 0.24. This will change numeric results when test-set sizes are unequal.\n",
      "  DeprecationWarning)\n",
      "/home/lucia/anaconda3/lib/python3.6/site-packages/sklearn/preprocessing/data.py:625: DataConversionWarning: Data with input dtype int64, float64 were all converted to float64 by StandardScaler.\n",
      "  return self.partial_fit(X, y)\n",
      "/home/lucia/anaconda3/lib/python3.6/site-packages/sklearn/base.py:465: DataConversionWarning: Data with input dtype int64, float64 were all converted to float64 by StandardScaler.\n",
      "  return self.fit(X, y, **fit_params).transform(X)\n",
      "/home/lucia/anaconda3/lib/python3.6/site-packages/sklearn/linear_model/stochastic_gradient.py:183: FutureWarning: max_iter and tol parameters have been added in SGDClassifier in 0.19. If max_iter is set but tol is left unset, the default value for tol in 0.19 and 0.20 will be None (which is equivalent to -infinity, so it has no effect) but will change in 0.21 to 1e-3. Specify tol to silence this warning.\n",
      "  FutureWarning)\n",
      "/home/lucia/anaconda3/lib/python3.6/site-packages/imblearn/pipeline.py:349: DataConversionWarning: Data with input dtype int64, float64 were all converted to float64 by StandardScaler.\n",
      "  Xt = transform.transform(Xt)\n"
     ]
    }
   ],
   "source": [
    "from gensim.models import KeyedVectors\n",
    "import pickle\n",
    "import re\n",
    "from sklearn.svm import SVC\n",
    "from sklearn.datasets import make_classification\n",
    "from sklearn.metrics import confusion_matrix, f1_score, precision_score,\\\n",
    "recall_score, confusion_matrix, classification_report, accuracy_score \n",
    "from sklearn.model_selection import GridSearchCV, cross_val_score, StratifiedKFold\n",
    "from sklearn.linear_model import SGDClassifier\n",
    "from sklearn.feature_selection import SelectFromModel\n",
    "from sklearn.svm import LinearSVC\n",
    "from sklearn import svm\n",
    "from sklearn.model_selection import GridSearchCV\n",
    "from imblearn.over_sampling import SMOTE\n",
    "from sklearn.model_selection import train_test_split\n",
    "from sys import argv\n",
    "import gc\n",
    "from sklearn.decomposition import TruncatedSVD\n",
    "from sklearn.pipeline import Pipeline\n",
    "from imblearn.pipeline import make_pipeline, Pipeline\n",
    "from imblearn.combine import SMOTEENN\n",
    "from sklearn.preprocessing import StandardScaler, Normalizer\n",
    "\n",
    "selected = allF[allF['raw_label'] < 5]\n",
    "selected['raw_label'] = selected['raw_label'].replace([1, 2, 3, 4], [1, 1, 1, 2]) \n",
    "X = selected.iloc[:,2:11]\n",
    "y = selected.raw_label\n",
    "\n",
    "def SGDclassifier(X, y):\n",
    "    X_train, X_test, y_train, y_test = train_test_split(X, y, test_size=0.30, random_state=30)\n",
    "\n",
    "    clf = make_pipeline(StandardScaler(),SGDClassifier(max_iter= 1000))\n",
    "\n",
    "    parameters = [{'sgdclassifier__alpha': [0.01, 0.05, 0.001, 0.005], 'sgdclassifier__class_weight':['balanced'],\n",
    "                  'sgdclassifier__loss': ['hinge','log','modified_huber','squared_hinge', 'perceptron'], \n",
    "                   'sgdclassifier__penalty':['none','l1','l2']}]\n",
    "\n",
    "    grid_search_item = GridSearchCV(clf,\n",
    "                              param_grid = parameters,\n",
    "                               scoring = 'accuracy',\n",
    "                               cv = 5,\n",
    "                               n_jobs = -1)\n",
    "\n",
    "    grid_search = grid_search_item.fit(X_train, y_train)\n",
    "\n",
    "    print('Best scores and best parameters')\n",
    "    print(grid_search.best_score_)\n",
    "    print(grid_search.best_params_)\n",
    "\n",
    "    y_true, y_pred = y_test, grid_search.predict(X_test)\n",
    "    print(classification_report(y_true, y_pred))\n",
    "\n",
    "\n",
    "SGDclassifier(X,y)"
   ]
  },
  {
   "cell_type": "code",
   "execution_count": 122,
   "metadata": {},
   "outputs": [
    {
     "name": "stderr",
     "output_type": "stream",
     "text": [
      "/Users/lucia/anaconda3/lib/python3.6/site-packages/ipykernel_launcher.py:24: SettingWithCopyWarning: \n",
      "A value is trying to be set on a copy of a slice from a DataFrame.\n",
      "Try using .loc[row_indexer,col_indexer] = value instead\n",
      "\n",
      "See the caveats in the documentation: http://pandas.pydata.org/pandas-docs/stable/indexing.html#indexing-view-versus-copy\n"
     ]
    },
    {
     "name": "stdout",
     "output_type": "stream",
     "text": [
      "Best scores and best parameters\n",
      "0.6459948320413437\n",
      "{'sgdclassifier__alpha': 0.001, 'sgdclassifier__class_weight': 'balanced', 'sgdclassifier__loss': 'modified_huber', 'sgdclassifier__penalty': 'none'}\n",
      "              precision    recall  f1-score   support\n",
      "\n",
      "           1       0.60      0.73      0.66        84\n",
      "           2       0.65      0.51      0.57        83\n",
      "\n",
      "   micro avg       0.62      0.62      0.62       167\n",
      "   macro avg       0.62      0.62      0.61       167\n",
      "weighted avg       0.62      0.62      0.61       167\n",
      "\n"
     ]
    },
    {
     "name": "stderr",
     "output_type": "stream",
     "text": [
      "/Users/lucia/anaconda3/lib/python3.6/site-packages/sklearn/model_selection/_search.py:841: DeprecationWarning: The default of the `iid` parameter will change from True to False in version 0.22 and will be removed in 0.24. This will change numeric results when test-set sizes are unequal.\n",
      "  DeprecationWarning)\n",
      "/Users/lucia/anaconda3/lib/python3.6/site-packages/sklearn/preprocessing/data.py:625: DataConversionWarning: Data with input dtype int64, float64 were all converted to float64 by StandardScaler.\n",
      "  return self.partial_fit(X, y)\n",
      "/Users/lucia/anaconda3/lib/python3.6/site-packages/sklearn/base.py:465: DataConversionWarning: Data with input dtype int64, float64 were all converted to float64 by StandardScaler.\n",
      "  return self.fit(X, y, **fit_params).transform(X)\n",
      "/Users/lucia/anaconda3/lib/python3.6/site-packages/sklearn/linear_model/stochastic_gradient.py:183: FutureWarning: max_iter and tol parameters have been added in SGDClassifier in 0.19. If max_iter is set but tol is left unset, the default value for tol in 0.19 and 0.20 will be None (which is equivalent to -infinity, so it has no effect) but will change in 0.21 to 1e-3. Specify tol to silence this warning.\n",
      "  FutureWarning)\n",
      "/Users/lucia/anaconda3/lib/python3.6/site-packages/imblearn/pipeline.py:349: DataConversionWarning: Data with input dtype int64, float64 were all converted to float64 by StandardScaler.\n",
      "  Xt = transform.transform(Xt)\n"
     ]
    }
   ],
   "source": [
    "\n",
    "\n",
    "selected = allF[allF['raw_label'] < 5]\n",
    "selected['raw_label'] = selected['raw_label'].replace([1, 2, 3, 4], [1, 1, 1, 2]) \n",
    "X = selected.iloc[:,2:11]\n",
    "y = selected.raw_label\n",
    "\n",
    "SGDclassifier(X,y)"
   ]
  },
  {
   "cell_type": "code",
   "execution_count": 12,
   "metadata": {},
   "outputs": [
    {
     "name": "stderr",
     "output_type": "stream",
     "text": [
      "/home/lucia/anaconda3/lib/python3.6/site-packages/ipykernel_launcher.py:3: SettingWithCopyWarning: \n",
      "A value is trying to be set on a copy of a slice from a DataFrame.\n",
      "Try using .loc[row_indexer,col_indexer] = value instead\n",
      "\n",
      "See the caveats in the documentation: http://pandas.pydata.org/pandas-docs/stable/indexing.html#indexing-view-versus-copy\n",
      "  This is separate from the ipykernel package so we can avoid doing imports until\n"
     ]
    },
    {
     "data": {
      "text/plain": [
       "2    375\n",
       "1    179\n",
       "Name: raw_label, dtype: int64"
      ]
     },
     "execution_count": 12,
     "metadata": {},
     "output_type": "execute_result"
    }
   ],
   "source": [
    "#see number of cases in each group\n",
    "selected = allF[allF['raw_label'] < 5]\n",
    "selected['raw_label'] = selected['raw_label'].replace([1, 2, 3, 4], [1, 1, 2, 2]) \n",
    "selected['raw_label'].value_counts()"
   ]
  },
  {
   "cell_type": "code",
   "execution_count": 11,
   "metadata": {},
   "outputs": [
    {
     "data": {
      "text/plain": [
       "(17897, 6)"
      ]
     },
     "execution_count": 11,
     "metadata": {},
     "output_type": "execute_result"
    }
   ],
   "source": [
    "#let's get all the suicide watch posts\n",
    "allData = pd.read_csv(path + '/data/clpsych19_training_data/shared_task_posts.csv')\n",
    "#sample.to_csv('/home/lucia/phd_work/shareTask/data/clpsych19_training_data/sample.csv')\n",
    "\n",
    "SW = allData.loc[allData['subreddit'] == 'SuicideWatch']\n",
    "SW.shape\n",
    "#SW.to_csv('/home/lucia/phd_work/shareTask/data/clpsych19_training_data/SuicideWatch.csv')"
   ]
  },
  {
   "cell_type": "code",
   "execution_count": 12,
   "metadata": {},
   "outputs": [
    {
     "data": {
      "text/plain": [
       "(1416, 7)"
      ]
     },
     "execution_count": 12,
     "metadata": {},
     "output_type": "execute_result"
    }
   ],
   "source": [
    "labels = pd.read_csv('/home/lucia/phd_work/shareTask/data/clpsych19_training_data/crowd_train.csv')\n",
    "allLabels = pd.merge(SW, labels, on ='user_id', how ='right')\n",
    "allLabels.shape\n",
    "#allLabels.to_csv('/home/lucia/phd_work/shareTask/data/clpsych19_training_data/sample.csv')"
   ]
  },
  {
   "cell_type": "code",
   "execution_count": 14,
   "metadata": {
    "collapsed": true
   },
   "outputs": [],
   "source": [
    "#check if motivation keywords mentioned in the text\n",
    "\n",
    "def findText(text, wordList):\n",
    "    for item in wordList:\n",
    "        if type(text) is str:\n",
    "            if item in text:\n",
    "                return True\n",
    "    return False\n",
    "\n",
    "def subsetDictPosts(file, dictionary, newBody):\n",
    "    file[newBody] = file.apply(lambda row: 1 if findText(row[\"post_body\"], dictionary) else 0, axis=1)\n",
    "    return file\n",
    " \n",
    "def CheckKeyWords(file, dictionary, newBody):    \n",
    "    \n",
    "    burden = subsetDictPosts(file, dictionary, newBody)\n",
    "    burden = burden[['user_id',newBody]]\n",
    "    burden = burden[burden[newBody] == 1]\n",
    "    burden = burden.drop_duplicates(subset=None, keep='first', inplace=False)\n",
    "    return burden\n",
    "\n",
    "allLabels = pd.read_csv(path + 'suicideDetection/sample.csv')\n",
    "burden = CheckKeyWords(allLabels, ['burden'], 'Psy_burden')\n",
    "lonely = CheckKeyWords(allLabels, ['lonely'], 'Psy_lonely')\n"
   ]
  },
  {
   "cell_type": "code",
   "execution_count": 15,
   "metadata": {
    "collapsed": true
   },
   "outputs": [],
   "source": [
    "motivation = pd.merge(burden, lonely, on = 'user_id', how = 'outer')\n",
    "motivation = motivation.fillna(0)\n",
    "motivation\n",
    "#merge motivation feature with Frequency features\n",
    "selected = allF[allF['raw_label'] < 5]\n",
    "allFea = pd.merge(selected, motivation, on = 'user_id', how = 'left')\n",
    "allFea = allFea.fillna(0)"
   ]
  },
  {
   "cell_type": "code",
   "execution_count": 16,
   "metadata": {},
   "outputs": [
    {
     "name": "stdout",
     "output_type": "stream",
     "text": [
      "Best scores and best parameters\n",
      "0.6408268733850129\n",
      "{'sgdclassifier__alpha': 0.05, 'sgdclassifier__class_weight': 'balanced', 'sgdclassifier__loss': 'log', 'sgdclassifier__penalty': 'none'}\n",
      "              precision    recall  f1-score   support\n",
      "\n",
      "           1       0.60      0.73      0.66        84\n",
      "           2       0.65      0.51      0.57        83\n",
      "\n",
      "   micro avg       0.62      0.62      0.62       167\n",
      "   macro avg       0.62      0.62      0.61       167\n",
      "weighted avg       0.62      0.62      0.61       167\n",
      "\n"
     ]
    },
    {
     "name": "stderr",
     "output_type": "stream",
     "text": [
      "/home/lucia/anaconda3/lib/python3.6/site-packages/sklearn/model_selection/_search.py:841: DeprecationWarning: The default of the `iid` parameter will change from True to False in version 0.22 and will be removed in 0.24. This will change numeric results when test-set sizes are unequal.\n",
      "  DeprecationWarning)\n",
      "/home/lucia/anaconda3/lib/python3.6/site-packages/sklearn/preprocessing/data.py:625: DataConversionWarning: Data with input dtype int64, float64 were all converted to float64 by StandardScaler.\n",
      "  return self.partial_fit(X, y)\n",
      "/home/lucia/anaconda3/lib/python3.6/site-packages/sklearn/base.py:465: DataConversionWarning: Data with input dtype int64, float64 were all converted to float64 by StandardScaler.\n",
      "  return self.fit(X, y, **fit_params).transform(X)\n",
      "/home/lucia/anaconda3/lib/python3.6/site-packages/sklearn/linear_model/stochastic_gradient.py:183: FutureWarning: max_iter and tol parameters have been added in SGDClassifier in 0.19. If max_iter is set but tol is left unset, the default value for tol in 0.19 and 0.20 will be None (which is equivalent to -infinity, so it has no effect) but will change in 0.21 to 1e-3. Specify tol to silence this warning.\n",
      "  FutureWarning)\n",
      "/home/lucia/anaconda3/lib/python3.6/site-packages/imblearn/pipeline.py:349: DataConversionWarning: Data with input dtype int64, float64 were all converted to float64 by StandardScaler.\n",
      "  Xt = transform.transform(Xt)\n"
     ]
    }
   ],
   "source": [
    "#binary\n",
    "allFea['raw_label'] = allFea['raw_label'].replace([1, 2, 3, 4], [1, 1, 1, 2]) \n",
    "X = allFea.iloc[:,2:11]\n",
    "y = allFea.raw_label\n",
    "\n",
    "SGDclassifier(X,y)"
   ]
  },
  {
   "cell_type": "code",
   "execution_count": 117,
   "metadata": {},
   "outputs": [
    {
     "name": "stdout",
     "output_type": "stream",
     "text": [
      "Best scores and best parameters\n",
      "0.45219638242894056\n",
      "{'sgdclassifier__alpha': 0.001, 'sgdclassifier__class_weight': 'balanced', 'sgdclassifier__loss': 'hinge', 'sgdclassifier__penalty': 'l1'}\n",
      "              precision    recall  f1-score   support\n",
      "\n",
      "           1       0.29      0.06      0.09        36\n",
      "           2       0.09      0.40      0.14        15\n",
      "           3       0.26      0.15      0.19        33\n",
      "           4       0.65      0.55      0.60        83\n",
      "\n",
      "   micro avg       0.35      0.35      0.35       167\n",
      "   macro avg       0.32      0.29      0.26       167\n",
      "weighted avg       0.44      0.35      0.37       167\n",
      "\n"
     ]
    },
    {
     "name": "stderr",
     "output_type": "stream",
     "text": [
      "/home/lucia/anaconda3/lib/python3.6/site-packages/sklearn/model_selection/_search.py:841: DeprecationWarning: The default of the `iid` parameter will change from True to False in version 0.22 and will be removed in 0.24. This will change numeric results when test-set sizes are unequal.\n",
      "  DeprecationWarning)\n",
      "/home/lucia/anaconda3/lib/python3.6/site-packages/sklearn/preprocessing/data.py:625: DataConversionWarning: Data with input dtype int64, float64 were all converted to float64 by StandardScaler.\n",
      "  return self.partial_fit(X, y)\n",
      "/home/lucia/anaconda3/lib/python3.6/site-packages/sklearn/base.py:465: DataConversionWarning: Data with input dtype int64, float64 were all converted to float64 by StandardScaler.\n",
      "  return self.fit(X, y, **fit_params).transform(X)\n",
      "/home/lucia/anaconda3/lib/python3.6/site-packages/sklearn/linear_model/stochastic_gradient.py:183: FutureWarning: max_iter and tol parameters have been added in SGDClassifier in 0.19. If max_iter is set but tol is left unset, the default value for tol in 0.19 and 0.20 will be None (which is equivalent to -infinity, so it has no effect) but will change in 0.21 to 1e-3. Specify tol to silence this warning.\n",
      "  FutureWarning)\n",
      "/home/lucia/anaconda3/lib/python3.6/site-packages/imblearn/pipeline.py:349: DataConversionWarning: Data with input dtype int64, float64 were all converted to float64 by StandardScaler.\n",
      "  Xt = transform.transform(Xt)\n"
     ]
    }
   ],
   "source": [
    "#multiclass\n",
    "allFea = pd.merge(selected, motivation, on = 'user_id', how = 'left')\n",
    "allFea = allFea.fillna(0)\n",
    "allFea['raw_label'] = allFea['raw_label'].replace([1, 2, 3, 4], [1, 2, 3, 4]) \n",
    "X = allFea.iloc[:,2:11]\n",
    "y = allFea.raw_label\n",
    "\n",
    "SGDclassifier(X,y)"
   ]
  },
  {
   "cell_type": "code",
   "execution_count": 118,
   "metadata": {},
   "outputs": [
    {
     "name": "stdout",
     "output_type": "stream",
     "text": [
      "Best scores and best parameters\n",
      "0.6124031007751938\n",
      "{'sgdclassifier__alpha': 0.001, 'sgdclassifier__class_weight': 'balanced', 'sgdclassifier__loss': 'log', 'sgdclassifier__penalty': 'l2'}\n",
      "              precision    recall  f1-score   support\n",
      "\n",
      "           1       0.36      0.67      0.47        51\n",
      "           2       0.77      0.48      0.59       116\n",
      "\n",
      "   micro avg       0.54      0.54      0.54       167\n",
      "   macro avg       0.56      0.57      0.53       167\n",
      "weighted avg       0.64      0.54      0.55       167\n",
      "\n"
     ]
    },
    {
     "name": "stderr",
     "output_type": "stream",
     "text": [
      "/home/lucia/anaconda3/lib/python3.6/site-packages/sklearn/model_selection/_search.py:841: DeprecationWarning: The default of the `iid` parameter will change from True to False in version 0.22 and will be removed in 0.24. This will change numeric results when test-set sizes are unequal.\n",
      "  DeprecationWarning)\n",
      "/home/lucia/anaconda3/lib/python3.6/site-packages/sklearn/preprocessing/data.py:625: DataConversionWarning: Data with input dtype int64, float64 were all converted to float64 by StandardScaler.\n",
      "  return self.partial_fit(X, y)\n",
      "/home/lucia/anaconda3/lib/python3.6/site-packages/sklearn/base.py:465: DataConversionWarning: Data with input dtype int64, float64 were all converted to float64 by StandardScaler.\n",
      "  return self.fit(X, y, **fit_params).transform(X)\n",
      "/home/lucia/anaconda3/lib/python3.6/site-packages/sklearn/linear_model/stochastic_gradient.py:183: FutureWarning: max_iter and tol parameters have been added in SGDClassifier in 0.19. If max_iter is set but tol is left unset, the default value for tol in 0.19 and 0.20 will be None (which is equivalent to -infinity, so it has no effect) but will change in 0.21 to 1e-3. Specify tol to silence this warning.\n",
      "  FutureWarning)\n",
      "/home/lucia/anaconda3/lib/python3.6/site-packages/imblearn/pipeline.py:349: DataConversionWarning: Data with input dtype int64, float64 were all converted to float64 by StandardScaler.\n",
      "  Xt = transform.transform(Xt)\n"
     ]
    }
   ],
   "source": [
    "#multiclass\n",
    "allFea = pd.merge(selected, motivation, on = 'user_id', how = 'left')\n",
    "allFea = allFea.fillna(0)\n",
    "allFea['raw_label'] = allFea['raw_label'].replace([1, 2, 3, 4], [1, 1, 2, 2]) \n",
    "X = allFea.iloc[:,2:11]\n",
    "y = allFea.raw_label\n",
    "\n",
    "SGDclassifier(X,y)"
   ]
  },
  {
   "cell_type": "markdown",
   "metadata": {},
   "source": [
    "we need to see how many suicideWatch post people have to decide the frequency window "
   ]
  },
  {
   "cell_type": "code",
   "execution_count": null,
   "metadata": {
    "collapsed": true
   },
   "outputs": [],
   "source": []
  },
  {
   "cell_type": "code",
   "execution_count": null,
   "metadata": {
    "collapsed": true
   },
   "outputs": [],
   "source": []
  },
  {
   "cell_type": "markdown",
   "metadata": {
    "collapsed": true
   },
   "source": [
    "add LIWC features"
   ]
  },
  {
   "cell_type": "code",
   "execution_count": 17,
   "metadata": {},
   "outputs": [
    {
     "name": "stderr",
     "output_type": "stream",
     "text": [
      "/home/lucia/anaconda3/lib/python3.6/site-packages/sklearn/model_selection/_search.py:841: DeprecationWarning: The default of the `iid` parameter will change from True to False in version 0.22 and will be removed in 0.24. This will change numeric results when test-set sizes are unequal.\n",
      "  DeprecationWarning)\n",
      "/home/lucia/anaconda3/lib/python3.6/site-packages/sklearn/preprocessing/data.py:625: DataConversionWarning: Data with input dtype int64, float64 were all converted to float64 by StandardScaler.\n",
      "  return self.partial_fit(X, y)\n",
      "/home/lucia/anaconda3/lib/python3.6/site-packages/sklearn/base.py:465: DataConversionWarning: Data with input dtype int64, float64 were all converted to float64 by StandardScaler.\n",
      "  return self.fit(X, y, **fit_params).transform(X)\n",
      "/home/lucia/anaconda3/lib/python3.6/site-packages/sklearn/linear_model/stochastic_gradient.py:183: FutureWarning: max_iter and tol parameters have been added in SGDClassifier in 0.19. If max_iter is set but tol is left unset, the default value for tol in 0.19 and 0.20 will be None (which is equivalent to -infinity, so it has no effect) but will change in 0.21 to 1e-3. Specify tol to silence this warning.\n",
      "  FutureWarning)\n"
     ]
    },
    {
     "name": "stdout",
     "output_type": "stream",
     "text": [
      "Best scores and best parameters\n",
      "0.7803617571059431\n",
      "{'sgdclassifier__alpha': 0.05, 'sgdclassifier__class_weight': 'balanced', 'sgdclassifier__loss': 'hinge', 'sgdclassifier__penalty': 'l1'}\n",
      "              precision    recall  f1-score   support\n",
      "\n",
      "           1       0.71      0.69      0.70        51\n",
      "           2       0.86      0.88      0.87       116\n",
      "\n",
      "   micro avg       0.82      0.82      0.82       167\n",
      "   macro avg       0.79      0.78      0.79       167\n",
      "weighted avg       0.82      0.82      0.82       167\n",
      "\n"
     ]
    },
    {
     "name": "stderr",
     "output_type": "stream",
     "text": [
      "/home/lucia/anaconda3/lib/python3.6/site-packages/imblearn/pipeline.py:349: DataConversionWarning: Data with input dtype int64, float64 were all converted to float64 by StandardScaler.\n",
      "  Xt = transform.transform(Xt)\n"
     ]
    }
   ],
   "source": [
    "allFea = pd.merge(selected, motivation, on = 'user_id', how = 'left')\n",
    "allFea = allFea.fillna(0)\n",
    "liwc = pd.read_csv(path + 'suicideDetection/features/liwcSW.csv')\n",
    "liwcUser= liwc.groupby('user_id').mean().reset_index()\n",
    "allFea = pd.merge(allFea, liwcUser, on = 'user_id', how = 'left')\n",
    "allFea['raw_label'] = allFea['raw_label'].replace([1, 2, 3, 4], [1, 1, 2, 2]) \n",
    "X =  allFea.drop(['raw_label'], axis=1)\n",
    "y = allFea.raw_label\n",
    "SGDclassifier(X,y)"
   ]
  },
  {
   "cell_type": "code",
   "execution_count": 37,
   "metadata": {},
   "outputs": [
    {
     "name": "stderr",
     "output_type": "stream",
     "text": [
      "/Users/lucia/anaconda3/lib/python3.6/site-packages/sklearn/model_selection/_search.py:841: DeprecationWarning: The default of the `iid` parameter will change from True to False in version 0.22 and will be removed in 0.24. This will change numeric results when test-set sizes are unequal.\n",
      "  DeprecationWarning)\n",
      "/Users/lucia/anaconda3/lib/python3.6/site-packages/sklearn/preprocessing/data.py:625: DataConversionWarning: Data with input dtype int64, float64 were all converted to float64 by StandardScaler.\n",
      "  return self.partial_fit(X, y)\n",
      "/Users/lucia/anaconda3/lib/python3.6/site-packages/sklearn/base.py:465: DataConversionWarning: Data with input dtype int64, float64 were all converted to float64 by StandardScaler.\n",
      "  return self.fit(X, y, **fit_params).transform(X)\n",
      "/Users/lucia/anaconda3/lib/python3.6/site-packages/sklearn/linear_model/stochastic_gradient.py:183: FutureWarning: max_iter and tol parameters have been added in SGDClassifier in 0.19. If max_iter is set but tol is left unset, the default value for tol in 0.19 and 0.20 will be None (which is equivalent to -infinity, so it has no effect) but will change in 0.21 to 1e-3. Specify tol to silence this warning.\n",
      "  FutureWarning)\n"
     ]
    },
    {
     "name": "stdout",
     "output_type": "stream",
     "text": [
      "Best scores and best parameters\n",
      "0.6459948320413437\n",
      "{'sgdclassifier__alpha': 0.05, 'sgdclassifier__class_weight': 'balanced', 'sgdclassifier__loss': 'log', 'sgdclassifier__penalty': 'l2'}\n",
      "              precision    recall  f1-score   support\n",
      "\n",
      "           1       0.71      0.65      0.68        84\n",
      "           2       0.67      0.72      0.70        83\n",
      "\n",
      "   micro avg       0.69      0.69      0.69       167\n",
      "   macro avg       0.69      0.69      0.69       167\n",
      "weighted avg       0.69      0.69      0.69       167\n",
      "\n"
     ]
    },
    {
     "name": "stderr",
     "output_type": "stream",
     "text": [
      "/Users/lucia/anaconda3/lib/python3.6/site-packages/imblearn/pipeline.py:349: DataConversionWarning: Data with input dtype int64, float64 were all converted to float64 by StandardScaler.\n",
      "  Xt = transform.transform(Xt)\n"
     ]
    }
   ],
   "source": [
    "allFea = pd.merge(selected, motivation, on = 'user_id', how = 'left')\n",
    "allFea = allFea.fillna(0)\n",
    "liwc = pd.read_csv(path + 'suicideDetection/features/liwcSW.csv')\n",
    "liwcUser= liwc.groupby('user_id').mean().reset_index()\n",
    "allFea = pd.merge(allFea, liwcUser, on = 'user_id', how = 'left')\n",
    "allFea['raw_label'] = allFea['raw_label'].replace([1, 2, 3, 4], [1, 1, 1, 2]) \n",
    "X =  allFea.drop(['raw_label'], axis=1)\n",
    "y = allFea.raw_label\n",
    "SGDclassifier(X,y)"
   ]
  },
  {
   "cell_type": "markdown",
   "metadata": {},
   "source": [
    "the no risk group mainly talk about sb's else's suicidal risk, therefore, just knowning the first person and third person frequency can identify this class"
   ]
  },
  {
   "cell_type": "code",
   "execution_count": 41,
   "metadata": {},
   "outputs": [
    {
     "name": "stderr",
     "output_type": "stream",
     "text": [
      "/Users/lucia/anaconda3/lib/python3.6/site-packages/sklearn/model_selection/_search.py:841: DeprecationWarning: The default of the `iid` parameter will change from True to False in version 0.22 and will be removed in 0.24. This will change numeric results when test-set sizes are unequal.\n",
      "  DeprecationWarning)\n",
      "/Users/lucia/anaconda3/lib/python3.6/site-packages/sklearn/preprocessing/data.py:625: DataConversionWarning: Data with input dtype int64, float64 were all converted to float64 by StandardScaler.\n",
      "  return self.partial_fit(X, y)\n",
      "/Users/lucia/anaconda3/lib/python3.6/site-packages/sklearn/base.py:465: DataConversionWarning: Data with input dtype int64, float64 were all converted to float64 by StandardScaler.\n",
      "  return self.fit(X, y, **fit_params).transform(X)\n",
      "/Users/lucia/anaconda3/lib/python3.6/site-packages/sklearn/linear_model/stochastic_gradient.py:183: FutureWarning: max_iter and tol parameters have been added in SGDClassifier in 0.19. If max_iter is set but tol is left unset, the default value for tol in 0.19 and 0.20 will be None (which is equivalent to -infinity, so it has no effect) but will change in 0.21 to 1e-3. Specify tol to silence this warning.\n",
      "  FutureWarning)\n"
     ]
    },
    {
     "name": "stdout",
     "output_type": "stream",
     "text": [
      "Best scores and best parameters\n",
      "0.5452196382428941\n",
      "{'sgdclassifier__alpha': 0.05, 'sgdclassifier__class_weight': 'balanced', 'sgdclassifier__loss': 'log', 'sgdclassifier__penalty': 'l1'}\n",
      "              precision    recall  f1-score   support\n",
      "\n",
      "           1       0.61      0.78      0.68        36\n",
      "           2       0.15      0.13      0.14        15\n",
      "           3       1.00      0.03      0.06        33\n",
      "           4       0.65      0.84      0.74        83\n",
      "\n",
      "   micro avg       0.60      0.60      0.60       167\n",
      "   macro avg       0.60      0.45      0.41       167\n",
      "weighted avg       0.67      0.60      0.54       167\n",
      "\n"
     ]
    },
    {
     "name": "stderr",
     "output_type": "stream",
     "text": [
      "/Users/lucia/anaconda3/lib/python3.6/site-packages/imblearn/pipeline.py:349: DataConversionWarning: Data with input dtype int64, float64 were all converted to float64 by StandardScaler.\n",
      "  Xt = transform.transform(Xt)\n"
     ]
    }
   ],
   "source": [
    "allFea = pd.merge(selected, motivation, on = 'user_id', how = 'left')\n",
    "allFea = allFea.fillna(0)\n",
    "liwc = pd.read_csv(path + 'suicideDetection/features/liwcSW.csv')\n",
    "liwcUser= liwc.groupby('user_id').mean().reset_index()\n",
    "allFea = pd.merge(allFea, liwcUser, on = 'user_id', how = 'left')\n",
    "#allFea['raw_label'] = allFea['raw_label'].replace([1, 2, 3, 4], [1, 1, 1, 2]) \n",
    "X =  allFea.drop(['raw_label'], axis=1)\n",
    "y = allFea.raw_label\n",
    "SGDclassifier(X,y)"
   ]
  },
  {
   "cell_type": "markdown",
   "metadata": {},
   "source": [
    "now we'll load the semantic tag features, we get a dictionary with tag counts, the tags we need to observe in here include nouns(NN), plural nouns (NNS), comparative words (JJR), modal (MD), proper nound (NNP), plural proper (NNPS), \n",
    "predeterminer (PDT), possessive ending(POS), personal pronoun (PRP), possessive pronoun(PRP$), verbs (VB) (VBD) (VBG) (VBN) (VBZ)"
   ]
  },
  {
   "cell_type": "code",
   "execution_count": 18,
   "metadata": {},
   "outputs": [
    {
     "name": "stdout",
     "output_type": "stream",
     "text": [
      "Best scores and best parameters\n",
      "0.648578811369509\n",
      "{'sgdclassifier__alpha': 0.05, 'sgdclassifier__class_weight': 'balanced', 'sgdclassifier__loss': 'hinge', 'sgdclassifier__penalty': 'l2'}\n",
      "              precision    recall  f1-score   support\n",
      "\n",
      "           1       0.68      0.60      0.64        84\n",
      "           2       0.64      0.72      0.68        83\n",
      "\n",
      "   micro avg       0.66      0.66      0.66       167\n",
      "   macro avg       0.66      0.66      0.66       167\n",
      "weighted avg       0.66      0.66      0.66       167\n",
      "\n"
     ]
    },
    {
     "name": "stderr",
     "output_type": "stream",
     "text": [
      "/home/lucia/anaconda3/lib/python3.6/site-packages/sklearn/model_selection/_search.py:841: DeprecationWarning: The default of the `iid` parameter will change from True to False in version 0.22 and will be removed in 0.24. This will change numeric results when test-set sizes are unequal.\n",
      "  DeprecationWarning)\n",
      "/home/lucia/anaconda3/lib/python3.6/site-packages/sklearn/preprocessing/data.py:625: DataConversionWarning: Data with input dtype int64, float64 were all converted to float64 by StandardScaler.\n",
      "  return self.partial_fit(X, y)\n",
      "/home/lucia/anaconda3/lib/python3.6/site-packages/sklearn/base.py:465: DataConversionWarning: Data with input dtype int64, float64 were all converted to float64 by StandardScaler.\n",
      "  return self.fit(X, y, **fit_params).transform(X)\n",
      "/home/lucia/anaconda3/lib/python3.6/site-packages/sklearn/linear_model/stochastic_gradient.py:183: FutureWarning: max_iter and tol parameters have been added in SGDClassifier in 0.19. If max_iter is set but tol is left unset, the default value for tol in 0.19 and 0.20 will be None (which is equivalent to -infinity, so it has no effect) but will change in 0.21 to 1e-3. Specify tol to silence this warning.\n",
      "  FutureWarning)\n",
      "/home/lucia/anaconda3/lib/python3.6/site-packages/imblearn/pipeline.py:349: DataConversionWarning: Data with input dtype int64, float64 were all converted to float64 by StandardScaler.\n",
      "  Xt = transform.transform(Xt)\n"
     ]
    }
   ],
   "source": [
    "allFea = pd.merge(selected, motivation, on = 'user_id', how = 'left')\n",
    "allFea = allFea.fillna(0)\n",
    "liwc = pd.read_csv(path + 'suicideDetection/features/liwcSW.csv')\n",
    "liwcUser= liwc.groupby('user_id').mean().reset_index()\n",
    "allFea = pd.merge(allFea, liwcUser, on = 'user_id', how = 'left')\n",
    "tags = pd.read_csv(path + 'suicideDetection/features/TagFea.csv')\n",
    "allFea2 = pd.merge(allFea, tags, on = 'user_id', how = 'left')\n",
    "allFea2['raw_label'] = allFea2['raw_label'].replace([1, 2, 3, 4], [1, 1, 1, 2]) \n",
    "X =  allFea2.drop(['raw_label'], axis=1)\n",
    "y = allFea2.raw_label\n",
    "SGDclassifier(X,y)\n"
   ]
  },
  {
   "cell_type": "code",
   "execution_count": 237,
   "metadata": {},
   "outputs": [
    {
     "name": "stderr",
     "output_type": "stream",
     "text": [
      "/Users/lucia/anaconda3/lib/python3.6/site-packages/sklearn/model_selection/_search.py:841: DeprecationWarning: The default of the `iid` parameter will change from True to False in version 0.22 and will be removed in 0.24. This will change numeric results when test-set sizes are unequal.\n",
      "  DeprecationWarning)\n",
      "/Users/lucia/anaconda3/lib/python3.6/site-packages/sklearn/preprocessing/data.py:625: DataConversionWarning: Data with input dtype int64, float64 were all converted to float64 by StandardScaler.\n",
      "  return self.partial_fit(X, y)\n",
      "/Users/lucia/anaconda3/lib/python3.6/site-packages/sklearn/base.py:465: DataConversionWarning: Data with input dtype int64, float64 were all converted to float64 by StandardScaler.\n",
      "  return self.fit(X, y, **fit_params).transform(X)\n",
      "/Users/lucia/anaconda3/lib/python3.6/site-packages/sklearn/linear_model/stochastic_gradient.py:183: FutureWarning: max_iter and tol parameters have been added in SGDClassifier in 0.19. If max_iter is set but tol is left unset, the default value for tol in 0.19 and 0.20 will be None (which is equivalent to -infinity, so it has no effect) but will change in 0.21 to 1e-3. Specify tol to silence this warning.\n",
      "  FutureWarning)\n"
     ]
    },
    {
     "name": "stdout",
     "output_type": "stream",
     "text": [
      "Best scores and best parameters\n",
      "0.7906976744186046\n",
      "{'sgdclassifier__alpha': 0.05, 'sgdclassifier__class_weight': 'balanced', 'sgdclassifier__loss': 'log', 'sgdclassifier__penalty': 'l1'}\n",
      "              precision    recall  f1-score   support\n",
      "\n",
      "           1       0.62      0.73      0.67        51\n",
      "           2       0.87      0.80      0.83       116\n",
      "\n",
      "   micro avg       0.78      0.78      0.78       167\n",
      "   macro avg       0.74      0.76      0.75       167\n",
      "weighted avg       0.79      0.78      0.78       167\n",
      "\n"
     ]
    },
    {
     "name": "stderr",
     "output_type": "stream",
     "text": [
      "/Users/lucia/anaconda3/lib/python3.6/site-packages/imblearn/pipeline.py:349: DataConversionWarning: Data with input dtype int64, float64 were all converted to float64 by StandardScaler.\n",
      "  Xt = transform.transform(Xt)\n"
     ]
    }
   ],
   "source": [
    "allFea2 = pd.merge(allFea, tags, on = 'user_id', how = 'left')\n",
    "allFea2['raw_label'] = allFea2['raw_label'].replace([1, 2, 3, 4], [1, 1, 2, 2]) \n",
    "X =  allFea2.drop(['raw_label'], axis=1)\n",
    "y = allFea2.raw_label\n",
    "SGDclassifier(X,y)"
   ]
  },
  {
   "cell_type": "code",
   "execution_count": 238,
   "metadata": {},
   "outputs": [
    {
     "name": "stderr",
     "output_type": "stream",
     "text": [
      "/Users/lucia/anaconda3/lib/python3.6/site-packages/sklearn/model_selection/_search.py:841: DeprecationWarning: The default of the `iid` parameter will change from True to False in version 0.22 and will be removed in 0.24. This will change numeric results when test-set sizes are unequal.\n",
      "  DeprecationWarning)\n",
      "/Users/lucia/anaconda3/lib/python3.6/site-packages/sklearn/preprocessing/data.py:625: DataConversionWarning: Data with input dtype int64, float64 were all converted to float64 by StandardScaler.\n",
      "  return self.partial_fit(X, y)\n",
      "/Users/lucia/anaconda3/lib/python3.6/site-packages/sklearn/base.py:465: DataConversionWarning: Data with input dtype int64, float64 were all converted to float64 by StandardScaler.\n",
      "  return self.fit(X, y, **fit_params).transform(X)\n",
      "/Users/lucia/anaconda3/lib/python3.6/site-packages/sklearn/linear_model/stochastic_gradient.py:183: FutureWarning: max_iter and tol parameters have been added in SGDClassifier in 0.19. If max_iter is set but tol is left unset, the default value for tol in 0.19 and 0.20 will be None (which is equivalent to -infinity, so it has no effect) but will change in 0.21 to 1e-3. Specify tol to silence this warning.\n",
      "  FutureWarning)\n"
     ]
    },
    {
     "name": "stdout",
     "output_type": "stream",
     "text": [
      "Best scores and best parameters\n",
      "0.5581395348837209\n",
      "{'sgdclassifier__alpha': 0.05, 'sgdclassifier__class_weight': 'balanced', 'sgdclassifier__loss': 'log', 'sgdclassifier__penalty': 'l1'}\n",
      "              precision    recall  f1-score   support\n",
      "\n",
      "           1       0.62      0.81      0.70        36\n",
      "           2       0.00      0.00      0.00        15\n",
      "           3       0.50      0.06      0.11        33\n",
      "           4       0.63      0.86      0.73        83\n",
      "\n",
      "   micro avg       0.61      0.61      0.61       167\n",
      "   macro avg       0.44      0.43      0.38       167\n",
      "weighted avg       0.55      0.61      0.53       167\n",
      "\n"
     ]
    },
    {
     "name": "stderr",
     "output_type": "stream",
     "text": [
      "/Users/lucia/anaconda3/lib/python3.6/site-packages/imblearn/pipeline.py:349: DataConversionWarning: Data with input dtype int64, float64 were all converted to float64 by StandardScaler.\n",
      "  Xt = transform.transform(Xt)\n"
     ]
    }
   ],
   "source": [
    "allFea2 = pd.merge(allFea, tags, on = 'user_id', how = 'left')\n",
    "#allFea2['raw_label'] = allFea2['raw_label'].replace([1, 2, 3, 4], [1, 1, 1, 2]) \n",
    "X =  allFea2.drop(['raw_label'], axis=1)\n",
    "y = allFea2.raw_label\n",
    "SGDclassifier(X,y)"
   ]
  },
  {
   "cell_type": "markdown",
   "metadata": {},
   "source": [
    "let's use the same features to predict the first two classes only \n",
    "still weak at classs 2"
   ]
  },
  {
   "cell_type": "code",
   "execution_count": 137,
   "metadata": {},
   "outputs": [
    {
     "name": "stdout",
     "output_type": "stream",
     "text": [
      "Best scores and best parameters\n",
      "0.784\n",
      "{'sgdclassifier__alpha': 0.01, 'sgdclassifier__class_weight': 'balanced', 'sgdclassifier__loss': 'hinge', 'sgdclassifier__penalty': 'l2'}\n",
      "              precision    recall  f1-score   support\n",
      "\n",
      "           1       0.79      0.89      0.84        37\n",
      "           2       0.67      0.47      0.55        17\n",
      "\n",
      "   micro avg       0.76      0.76      0.76        54\n",
      "   macro avg       0.73      0.68      0.69        54\n",
      "weighted avg       0.75      0.76      0.75        54\n",
      "\n"
     ]
    },
    {
     "name": "stderr",
     "output_type": "stream",
     "text": [
      "/home/lucia/anaconda3/lib/python3.6/site-packages/sklearn/model_selection/_search.py:841: DeprecationWarning: The default of the `iid` parameter will change from True to False in version 0.22 and will be removed in 0.24. This will change numeric results when test-set sizes are unequal.\n",
      "  DeprecationWarning)\n",
      "/home/lucia/anaconda3/lib/python3.6/site-packages/sklearn/preprocessing/data.py:625: DataConversionWarning: Data with input dtype int64, float64 were all converted to float64 by StandardScaler.\n",
      "  return self.partial_fit(X, y)\n",
      "/home/lucia/anaconda3/lib/python3.6/site-packages/sklearn/base.py:465: DataConversionWarning: Data with input dtype int64, float64 were all converted to float64 by StandardScaler.\n",
      "  return self.fit(X, y, **fit_params).transform(X)\n",
      "/home/lucia/anaconda3/lib/python3.6/site-packages/sklearn/linear_model/stochastic_gradient.py:183: FutureWarning: max_iter and tol parameters have been added in SGDClassifier in 0.19. If max_iter is set but tol is left unset, the default value for tol in 0.19 and 0.20 will be None (which is equivalent to -infinity, so it has no effect) but will change in 0.21 to 1e-3. Specify tol to silence this warning.\n",
      "  FutureWarning)\n",
      "/home/lucia/anaconda3/lib/python3.6/site-packages/imblearn/pipeline.py:349: DataConversionWarning: Data with input dtype int64, float64 were all converted to float64 by StandardScaler.\n",
      "  Xt = transform.transform(Xt)\n"
     ]
    }
   ],
   "source": [
    "selected = allF[allF['raw_label'] < 3] #here we select the first two classes\n",
    "allFea = pd.merge(selected, motivation, on = 'user_id', how = 'left')\n",
    "allFea = allFea.fillna(0)\n",
    "liwc = pd.read_csv(path + 'suicideDetection/features/liwcSW.csv')\n",
    "liwcUser= liwc.groupby('user_id').mean().reset_index()\n",
    "allFea = pd.merge(allFea, liwcUser, on = 'user_id', how = 'left')\n",
    "tags = pd.read_csv(path + 'suicideDetection/features/TagFea.csv')\n",
    "allFea2 = pd.merge(allFea, tags, on = 'user_id', how = 'left')\n",
    "X =  allFea2.drop(['raw_label'], axis=1)\n",
    "y = allFea2.raw_label\n",
    "SGDclassifier(X,y)"
   ]
  },
  {
   "cell_type": "code",
   "execution_count": 141,
   "metadata": {},
   "outputs": [
    {
     "name": "stdout",
     "output_type": "stream",
     "text": [
      "Best scores and best parameters\n",
      "0.6450381679389313\n",
      "{'sgdclassifier__alpha': 0.001, 'sgdclassifier__class_weight': 'balanced', 'sgdclassifier__loss': 'modified_huber', 'sgdclassifier__penalty': 'l1'}\n",
      "              precision    recall  f1-score   support\n",
      "\n",
      "           3       0.50      0.47      0.49        38\n",
      "           4       0.74      0.76      0.75        75\n",
      "\n",
      "   micro avg       0.66      0.66      0.66       113\n",
      "   macro avg       0.62      0.62      0.62       113\n",
      "weighted avg       0.66      0.66      0.66       113\n",
      "\n"
     ]
    },
    {
     "name": "stderr",
     "output_type": "stream",
     "text": [
      "/home/lucia/anaconda3/lib/python3.6/site-packages/sklearn/model_selection/_search.py:841: DeprecationWarning: The default of the `iid` parameter will change from True to False in version 0.22 and will be removed in 0.24. This will change numeric results when test-set sizes are unequal.\n",
      "  DeprecationWarning)\n",
      "/home/lucia/anaconda3/lib/python3.6/site-packages/sklearn/preprocessing/data.py:625: DataConversionWarning: Data with input dtype int64, float64 were all converted to float64 by StandardScaler.\n",
      "  return self.partial_fit(X, y)\n",
      "/home/lucia/anaconda3/lib/python3.6/site-packages/sklearn/base.py:465: DataConversionWarning: Data with input dtype int64, float64 were all converted to float64 by StandardScaler.\n",
      "  return self.fit(X, y, **fit_params).transform(X)\n",
      "/home/lucia/anaconda3/lib/python3.6/site-packages/sklearn/linear_model/stochastic_gradient.py:183: FutureWarning: max_iter and tol parameters have been added in SGDClassifier in 0.19. If max_iter is set but tol is left unset, the default value for tol in 0.19 and 0.20 will be None (which is equivalent to -infinity, so it has no effect) but will change in 0.21 to 1e-3. Specify tol to silence this warning.\n",
      "  FutureWarning)\n",
      "/home/lucia/anaconda3/lib/python3.6/site-packages/imblearn/pipeline.py:349: DataConversionWarning: Data with input dtype int64, float64 were all converted to float64 by StandardScaler.\n",
      "  Xt = transform.transform(Xt)\n"
     ]
    }
   ],
   "source": [
    "selected = allF[allF['raw_label'] > 2]\n",
    "selected = selected[selected['raw_label'] < 5] #here we select the later two classes\n",
    "allFea = pd.merge(selected, motivation, on = 'user_id', how = 'left')\n",
    "allFea = allFea.fillna(0)\n",
    "liwc = pd.read_csv(path + 'suicideDetection/features/liwcSW.csv')\n",
    "liwcUser= liwc.groupby('user_id').mean().reset_index()\n",
    "allFea = pd.merge(allFea, liwcUser, on = 'user_id', how = 'left')\n",
    "tags = pd.read_csv(path + 'suicideDetection/features/TagFea.csv')\n",
    "allFea2 = pd.merge(allFea, tags, on = 'user_id', how = 'left')\n",
    "X =  allFea2.drop(['raw_label'], axis=1)\n",
    "y = allFea2.raw_label\n",
    "SGDclassifier(X,y)"
   ]
  },
  {
   "cell_type": "markdown",
   "metadata": {},
   "source": [
    "how about not using tags, it's worse, so tags also helps class 3 and 4"
   ]
  },
  {
   "cell_type": "code",
   "execution_count": 142,
   "metadata": {},
   "outputs": [
    {
     "name": "stdout",
     "output_type": "stream",
     "text": [
      "Best scores and best parameters\n",
      "0.6412213740458015\n",
      "{'sgdclassifier__alpha': 0.001, 'sgdclassifier__class_weight': 'balanced', 'sgdclassifier__loss': 'hinge', 'sgdclassifier__penalty': 'l1'}\n",
      "              precision    recall  f1-score   support\n",
      "\n",
      "           3       0.49      0.45      0.47        38\n",
      "           4       0.73      0.76      0.75        75\n",
      "\n",
      "   micro avg       0.65      0.65      0.65       113\n",
      "   macro avg       0.61      0.60      0.61       113\n",
      "weighted avg       0.65      0.65      0.65       113\n",
      "\n"
     ]
    },
    {
     "name": "stderr",
     "output_type": "stream",
     "text": [
      "/home/lucia/anaconda3/lib/python3.6/site-packages/sklearn/model_selection/_search.py:841: DeprecationWarning: The default of the `iid` parameter will change from True to False in version 0.22 and will be removed in 0.24. This will change numeric results when test-set sizes are unequal.\n",
      "  DeprecationWarning)\n",
      "/home/lucia/anaconda3/lib/python3.6/site-packages/sklearn/preprocessing/data.py:625: DataConversionWarning: Data with input dtype int64, float64 were all converted to float64 by StandardScaler.\n",
      "  return self.partial_fit(X, y)\n",
      "/home/lucia/anaconda3/lib/python3.6/site-packages/sklearn/base.py:465: DataConversionWarning: Data with input dtype int64, float64 were all converted to float64 by StandardScaler.\n",
      "  return self.fit(X, y, **fit_params).transform(X)\n",
      "/home/lucia/anaconda3/lib/python3.6/site-packages/sklearn/linear_model/stochastic_gradient.py:183: FutureWarning: max_iter and tol parameters have been added in SGDClassifier in 0.19. If max_iter is set but tol is left unset, the default value for tol in 0.19 and 0.20 will be None (which is equivalent to -infinity, so it has no effect) but will change in 0.21 to 1e-3. Specify tol to silence this warning.\n",
      "  FutureWarning)\n",
      "/home/lucia/anaconda3/lib/python3.6/site-packages/imblearn/pipeline.py:349: DataConversionWarning: Data with input dtype int64, float64 were all converted to float64 by StandardScaler.\n",
      "  Xt = transform.transform(Xt)\n"
     ]
    }
   ],
   "source": [
    "selected = allF[allF['raw_label'] > 2]\n",
    "selected = selected[selected['raw_label'] < 5] #here we select the later two classes\n",
    "allFea = pd.merge(selected, motivation, on = 'user_id', how = 'left')\n",
    "allFea = allFea.fillna(0)\n",
    "liwc = pd.read_csv(path + 'suicideDetection/features/liwcSW.csv')\n",
    "liwcUser= liwc.groupby('user_id').mean().reset_index()\n",
    "allFea = pd.merge(allFea, liwcUser, on = 'user_id', how = 'left')\n",
    "#tags = pd.read_csv(path + 'suicideDetection/features/TagFea.csv')\n",
    "#allFea2 = pd.merge(allFea, tags, on = 'user_id', how = 'left')\n",
    "X =  allFea2.drop(['raw_label'], axis=1)\n",
    "y = allFea2.raw_label\n",
    "SGDclassifier(X,y)"
   ]
  },
  {
   "cell_type": "markdown",
   "metadata": {
    "collapsed": true
   },
   "source": [
    "let's add count vect as feature"
   ]
  },
  {
   "cell_type": "code",
   "execution_count": 18,
   "metadata": {
    "collapsed": true
   },
   "outputs": [],
   "source": [
    "w = SW.groupby('user_id').post_title.apply(lambda x: x.sum()).reset_index()\n",
    "countVec = pd.read_csv(path + 'data/countVec_200.csv')"
   ]
  },
  {
   "cell_type": "markdown",
   "metadata": {},
   "source": [
    "top 200 count vect doesn't boost up the model"
   ]
  },
  {
   "cell_type": "code",
   "execution_count": 19,
   "metadata": {},
   "outputs": [
    {
     "name": "stderr",
     "output_type": "stream",
     "text": [
      "/home/lucia/anaconda3/lib/python3.6/site-packages/sklearn/model_selection/_search.py:841: DeprecationWarning: The default of the `iid` parameter will change from True to False in version 0.22 and will be removed in 0.24. This will change numeric results when test-set sizes are unequal.\n",
      "  DeprecationWarning)\n",
      "/home/lucia/anaconda3/lib/python3.6/site-packages/sklearn/preprocessing/data.py:625: DataConversionWarning: Data with input dtype int64, float64 were all converted to float64 by StandardScaler.\n",
      "  return self.partial_fit(X, y)\n",
      "/home/lucia/anaconda3/lib/python3.6/site-packages/sklearn/base.py:465: DataConversionWarning: Data with input dtype int64, float64 were all converted to float64 by StandardScaler.\n",
      "  return self.fit(X, y, **fit_params).transform(X)\n",
      "/home/lucia/anaconda3/lib/python3.6/site-packages/sklearn/linear_model/stochastic_gradient.py:183: FutureWarning: max_iter and tol parameters have been added in SGDClassifier in 0.19. If max_iter is set but tol is left unset, the default value for tol in 0.19 and 0.20 will be None (which is equivalent to -infinity, so it has no effect) but will change in 0.21 to 1e-3. Specify tol to silence this warning.\n",
      "  FutureWarning)\n"
     ]
    },
    {
     "name": "stdout",
     "output_type": "stream",
     "text": [
      "Best scores and best parameters\n",
      "0.7829457364341085\n",
      "{'sgdclassifier__alpha': 0.05, 'sgdclassifier__class_weight': 'balanced', 'sgdclassifier__loss': 'log', 'sgdclassifier__penalty': 'l1'}\n",
      "              precision    recall  f1-score   support\n",
      "\n",
      "           1       0.62      0.78      0.69        51\n",
      "           2       0.89      0.78      0.83       116\n",
      "\n",
      "   micro avg       0.78      0.78      0.78       167\n",
      "   macro avg       0.75      0.78      0.76       167\n",
      "weighted avg       0.81      0.78      0.79       167\n",
      "\n"
     ]
    },
    {
     "name": "stderr",
     "output_type": "stream",
     "text": [
      "/home/lucia/anaconda3/lib/python3.6/site-packages/imblearn/pipeline.py:349: DataConversionWarning: Data with input dtype int64, float64 were all converted to float64 by StandardScaler.\n",
      "  Xt = transform.transform(Xt)\n"
     ]
    }
   ],
   "source": [
    "#merge with other features\n",
    "selected = allF[allF['raw_label'] < 5]\n",
    "allFea = pd.merge(selected, motivation, on = 'user_id', how = 'left')\n",
    "allFea = allFea.fillna(0)\n",
    "liwc = pd.read_csv(path + 'suicideDetection/features/liwcSW.csv')\n",
    "liwcUser= liwc.groupby('user_id').mean().reset_index()\n",
    "allFea = pd.merge(allFea, liwcUser, on = 'user_id', how = 'left')\n",
    "tags = pd.read_csv(path + 'suicideDetection/features/TagFea.csv')\n",
    "allFea2 = pd.merge(allFea, tags, on = 'user_id', how = 'left')\n",
    "allFea2 = pd.merge(allFea2, countVec, on = 'user_id', how ='left')\n",
    "allFea2['raw_label'] = allFea2['raw_label'].replace([1, 2, 3, 4], [1, 1, 2, 2]) \n",
    "allFea2.shape\n",
    "X =  allFea2.drop(['raw_label'], axis=1)\n",
    "y = allFea2.raw_label\n",
    "SGDclassifier(X,y)"
   ]
  },
  {
   "cell_type": "code",
   "execution_count": 52,
   "metadata": {},
   "outputs": [
    {
     "name": "stderr",
     "output_type": "stream",
     "text": [
      "/home/lucia/anaconda3/lib/python3.6/site-packages/sklearn/model_selection/_search.py:841: DeprecationWarning: The default of the `iid` parameter will change from True to False in version 0.22 and will be removed in 0.24. This will change numeric results when test-set sizes are unequal.\n",
      "  DeprecationWarning)\n",
      "/home/lucia/anaconda3/lib/python3.6/site-packages/sklearn/preprocessing/data.py:625: DataConversionWarning: Data with input dtype int64, float64 were all converted to float64 by StandardScaler.\n",
      "  return self.partial_fit(X, y)\n",
      "/home/lucia/anaconda3/lib/python3.6/site-packages/sklearn/base.py:465: DataConversionWarning: Data with input dtype int64, float64 were all converted to float64 by StandardScaler.\n",
      "  return self.fit(X, y, **fit_params).transform(X)\n",
      "/home/lucia/anaconda3/lib/python3.6/site-packages/sklearn/linear_model/stochastic_gradient.py:183: FutureWarning: max_iter and tol parameters have been added in SGDClassifier in 0.19. If max_iter is set but tol is left unset, the default value for tol in 0.19 and 0.20 will be None (which is equivalent to -infinity, so it has no effect) but will change in 0.21 to 1e-3. Specify tol to silence this warning.\n",
      "  FutureWarning)\n"
     ]
    },
    {
     "name": "stdout",
     "output_type": "stream",
     "text": [
      "Best scores and best parameters\n",
      "0.6175710594315246\n",
      "{'sgdclassifier__alpha': 0.05, 'sgdclassifier__class_weight': 'balanced', 'sgdclassifier__loss': 'log', 'sgdclassifier__penalty': 'l2'}\n",
      "              precision    recall  f1-score   support\n",
      "\n",
      "           1       0.66      0.86      0.75        36\n",
      "           2       0.00      0.00      0.00        15\n",
      "           3       0.28      0.27      0.28        33\n",
      "           4       0.67      0.69      0.68        83\n",
      "\n",
      "   micro avg       0.58      0.58      0.58       167\n",
      "   macro avg       0.40      0.46      0.43       167\n",
      "weighted avg       0.53      0.58      0.55       167\n",
      "\n"
     ]
    },
    {
     "name": "stderr",
     "output_type": "stream",
     "text": [
      "/home/lucia/anaconda3/lib/python3.6/site-packages/imblearn/pipeline.py:349: DataConversionWarning: Data with input dtype int64, float64 were all converted to float64 by StandardScaler.\n",
      "  Xt = transform.transform(Xt)\n"
     ]
    }
   ],
   "source": [
    "#merge with other features\n",
    "selected = allF[allF['raw_label'] < 5]\n",
    "allFea = pd.merge(selected, motivation, on = 'user_id', how = 'left')\n",
    "allFea = allFea.fillna(0)\n",
    "liwc = pd.read_csv(path + 'suicideDetection/features/liwcSW.csv')\n",
    "liwcUser= liwc.groupby('user_id').mean().reset_index()\n",
    "allFea = pd.merge(allFea, liwcUser, on = 'user_id', how = 'left')\n",
    "tags = pd.read_csv(path + 'suicideDetection/features/TagFea.csv')\n",
    "allFea2 = pd.merge(allFea, tags, on = 'user_id', how = 'left')\n",
    "allFea2 = pd.merge(allFea2, countVec, on = 'user_id', how ='left')\n",
    "#allFea2['raw_label'] = allFea2['raw_label'].replace([1, 2, 3, 4], [1, 1, 2, 2]) \n",
    "allFea2.shape\n",
    "X =  allFea2.drop(['raw_label'], axis=1)\n",
    "y = allFea2.raw_label\n",
    "SGDclassifier(X,y)"
   ]
  },
  {
   "cell_type": "markdown",
   "metadata": {},
   "source": [
    "Let's try top 400 countVec, seems like top 400 countVect boost up the model a bit "
   ]
  },
  {
   "cell_type": "code",
   "execution_count": 20,
   "metadata": {},
   "outputs": [
    {
     "name": "stderr",
     "output_type": "stream",
     "text": [
      "/home/lucia/anaconda3/lib/python3.6/site-packages/sklearn/model_selection/_search.py:841: DeprecationWarning: The default of the `iid` parameter will change from True to False in version 0.22 and will be removed in 0.24. This will change numeric results when test-set sizes are unequal.\n",
      "  DeprecationWarning)\n",
      "/home/lucia/anaconda3/lib/python3.6/site-packages/sklearn/preprocessing/data.py:625: DataConversionWarning: Data with input dtype int64, float64 were all converted to float64 by StandardScaler.\n",
      "  return self.partial_fit(X, y)\n",
      "/home/lucia/anaconda3/lib/python3.6/site-packages/sklearn/base.py:465: DataConversionWarning: Data with input dtype int64, float64 were all converted to float64 by StandardScaler.\n",
      "  return self.fit(X, y, **fit_params).transform(X)\n",
      "/home/lucia/anaconda3/lib/python3.6/site-packages/sklearn/linear_model/stochastic_gradient.py:183: FutureWarning: max_iter and tol parameters have been added in SGDClassifier in 0.19. If max_iter is set but tol is left unset, the default value for tol in 0.19 and 0.20 will be None (which is equivalent to -infinity, so it has no effect) but will change in 0.21 to 1e-3. Specify tol to silence this warning.\n",
      "  FutureWarning)\n"
     ]
    },
    {
     "name": "stdout",
     "output_type": "stream",
     "text": [
      "Best scores and best parameters\n",
      "0.7803617571059431\n",
      "{'sgdclassifier__alpha': 0.05, 'sgdclassifier__class_weight': 'balanced', 'sgdclassifier__loss': 'log', 'sgdclassifier__penalty': 'l1'}\n",
      "              precision    recall  f1-score   support\n",
      "\n",
      "           1       0.63      0.82      0.71        51\n",
      "           2       0.91      0.78      0.84       116\n",
      "\n",
      "   micro avg       0.80      0.80      0.80       167\n",
      "   macro avg       0.77      0.80      0.78       167\n",
      "weighted avg       0.82      0.80      0.80       167\n",
      "\n"
     ]
    },
    {
     "name": "stderr",
     "output_type": "stream",
     "text": [
      "/home/lucia/anaconda3/lib/python3.6/site-packages/imblearn/pipeline.py:349: DataConversionWarning: Data with input dtype int64, float64 were all converted to float64 by StandardScaler.\n",
      "  Xt = transform.transform(Xt)\n"
     ]
    }
   ],
   "source": [
    "w = SW.groupby('user_id').post_title.apply(lambda x: x.sum()).reset_index()\n",
    "countVec = pd.read_csv(path + 'data/countVec_400.csv')\n",
    "selected = allF[allF['raw_label'] < 5]\n",
    "allFea = pd.merge(selected, motivation, on = 'user_id', how = 'left')\n",
    "allFea = allFea.fillna(0)\n",
    "liwc = pd.read_csv(path + 'suicideDetection/features/liwcSW.csv')\n",
    "liwcUser= liwc.groupby('user_id').mean().reset_index()\n",
    "allFea = pd.merge(allFea, liwcUser, on = 'user_id', how = 'left')\n",
    "tags = pd.read_csv(path + 'suicideDetection/features/TagFea.csv')\n",
    "allFea2 = pd.merge(allFea, tags, on = 'user_id', how = 'left')\n",
    "allFea2 = pd.merge(allFea2, countVec, on = 'user_id', how ='left')\n",
    "allFea2['raw_label'] = allFea2['raw_label'].replace([1, 2, 3, 4], [1, 1, 2, 2]) \n",
    "allFea2.shape\n",
    "X =  allFea2.drop(['raw_label'], axis=1)\n",
    "y = allFea2.raw_label\n",
    "SGDclassifier(X,y)"
   ]
  },
  {
   "cell_type": "markdown",
   "metadata": {},
   "source": [
    "We can see the problem now, second class tend to be predicted as first class"
   ]
  },
  {
   "cell_type": "code",
   "execution_count": 21,
   "metadata": {},
   "outputs": [
    {
     "name": "stderr",
     "output_type": "stream",
     "text": [
      "/home/lucia/anaconda3/lib/python3.6/site-packages/sklearn/model_selection/_search.py:841: DeprecationWarning: The default of the `iid` parameter will change from True to False in version 0.22 and will be removed in 0.24. This will change numeric results when test-set sizes are unequal.\n",
      "  DeprecationWarning)\n",
      "/home/lucia/anaconda3/lib/python3.6/site-packages/sklearn/preprocessing/data.py:625: DataConversionWarning: Data with input dtype int64, float64 were all converted to float64 by StandardScaler.\n",
      "  return self.partial_fit(X, y)\n",
      "/home/lucia/anaconda3/lib/python3.6/site-packages/sklearn/base.py:465: DataConversionWarning: Data with input dtype int64, float64 were all converted to float64 by StandardScaler.\n",
      "  return self.fit(X, y, **fit_params).transform(X)\n",
      "/home/lucia/anaconda3/lib/python3.6/site-packages/sklearn/linear_model/stochastic_gradient.py:183: FutureWarning: max_iter and tol parameters have been added in SGDClassifier in 0.19. If max_iter is set but tol is left unset, the default value for tol in 0.19 and 0.20 will be None (which is equivalent to -infinity, so it has no effect) but will change in 0.21 to 1e-3. Specify tol to silence this warning.\n",
      "  FutureWarning)\n"
     ]
    },
    {
     "name": "stdout",
     "output_type": "stream",
     "text": [
      "Best scores and best parameters\n",
      "0.744\n",
      "{'sgdclassifier__alpha': 0.01, 'sgdclassifier__class_weight': 'balanced', 'sgdclassifier__loss': 'log', 'sgdclassifier__penalty': 'l2'}\n",
      "              precision    recall  f1-score   support\n",
      "\n",
      "           1       0.86      0.84      0.85        37\n",
      "           2       0.67      0.71      0.69        17\n",
      "\n",
      "   micro avg       0.80      0.80      0.80        54\n",
      "   macro avg       0.76      0.77      0.77        54\n",
      "weighted avg       0.80      0.80      0.80        54\n",
      "\n"
     ]
    },
    {
     "name": "stderr",
     "output_type": "stream",
     "text": [
      "/home/lucia/anaconda3/lib/python3.6/site-packages/imblearn/pipeline.py:349: DataConversionWarning: Data with input dtype int64, float64 were all converted to float64 by StandardScaler.\n",
      "  Xt = transform.transform(Xt)\n"
     ]
    }
   ],
   "source": [
    "selected = allF[allF['raw_label'] < 3]\n",
    "allFea = pd.merge(selected, motivation, on = 'user_id', how = 'left')\n",
    "allFea = allFea.fillna(0)\n",
    "liwc = pd.read_csv(path + 'suicideDetection/features/liwcSW.csv')\n",
    "liwcUser= liwc.groupby('user_id').mean().reset_index()\n",
    "allFea = pd.merge(allFea, liwcUser, on = 'user_id', how = 'left')\n",
    "tags = pd.read_csv(path + 'suicideDetection/features/TagFea.csv')\n",
    "allFea2 = pd.merge(allFea, tags, on = 'user_id', how = 'left')\n",
    "allFea2 = pd.merge(allFea2, countVec, on = 'user_id', how ='left')\n",
    "#allFea2['raw_label'] = allFea2['raw_label'].replace([1, 2, 3, 4], [1, 1, 2, 2]) \n",
    "allFea2.shape\n",
    "X =  allFea2.drop(['raw_label'], axis=1)\n",
    "y = allFea2.raw_label\n",
    "SGDclassifier(X,y)"
   ]
  },
  {
   "cell_type": "markdown",
   "metadata": {},
   "source": [
    "600 vectors doesn't improve the results"
   ]
  },
  {
   "cell_type": "code",
   "execution_count": 24,
   "metadata": {},
   "outputs": [
    {
     "name": "stderr",
     "output_type": "stream",
     "text": [
      "/home/lucia/anaconda3/lib/python3.6/site-packages/sklearn/model_selection/_search.py:841: DeprecationWarning: The default of the `iid` parameter will change from True to False in version 0.22 and will be removed in 0.24. This will change numeric results when test-set sizes are unequal.\n",
      "  DeprecationWarning)\n",
      "/home/lucia/anaconda3/lib/python3.6/site-packages/sklearn/preprocessing/data.py:625: DataConversionWarning: Data with input dtype int64, float64 were all converted to float64 by StandardScaler.\n",
      "  return self.partial_fit(X, y)\n",
      "/home/lucia/anaconda3/lib/python3.6/site-packages/sklearn/base.py:465: DataConversionWarning: Data with input dtype int64, float64 were all converted to float64 by StandardScaler.\n",
      "  return self.fit(X, y, **fit_params).transform(X)\n",
      "/home/lucia/anaconda3/lib/python3.6/site-packages/sklearn/linear_model/stochastic_gradient.py:183: FutureWarning: max_iter and tol parameters have been added in SGDClassifier in 0.19. If max_iter is set but tol is left unset, the default value for tol in 0.19 and 0.20 will be None (which is equivalent to -infinity, so it has no effect) but will change in 0.21 to 1e-3. Specify tol to silence this warning.\n",
      "  FutureWarning)\n"
     ]
    },
    {
     "name": "stdout",
     "output_type": "stream",
     "text": [
      "Best scores and best parameters\n",
      "0.7131782945736435\n",
      "{'sgdclassifier__alpha': 0.001, 'sgdclassifier__class_weight': 'balanced', 'sgdclassifier__loss': 'log', 'sgdclassifier__penalty': 'l2'}\n",
      "              precision    recall  f1-score   support\n",
      "\n",
      "           1       0.65      0.85      0.74        84\n",
      "           2       0.78      0.54      0.64        83\n",
      "\n",
      "   micro avg       0.69      0.69      0.69       167\n",
      "   macro avg       0.71      0.69      0.69       167\n",
      "weighted avg       0.71      0.69      0.69       167\n",
      "\n"
     ]
    },
    {
     "name": "stderr",
     "output_type": "stream",
     "text": [
      "/home/lucia/anaconda3/lib/python3.6/site-packages/imblearn/pipeline.py:349: DataConversionWarning: Data with input dtype int64, float64 were all converted to float64 by StandardScaler.\n",
      "  Xt = transform.transform(Xt)\n"
     ]
    }
   ],
   "source": [
    "w = SW.groupby('user_id').post_title.apply(lambda x: x.sum()).reset_index()\n",
    "countVec = pd.read_csv(path + 'data/countVec_400.csv')\n",
    "selected = allF[allF['raw_label'] < 5]\n",
    "allFea = pd.merge(selected, motivation, on = 'user_id', how = 'left')\n",
    "allFea = allFea.fillna(0)\n",
    "liwc = pd.read_csv(path + 'suicideDetection/features/liwcSW.csv')\n",
    "liwcUser= liwc.groupby('user_id').mean().reset_index()\n",
    "allFea = pd.merge(allFea, liwcUser, on = 'user_id', how = 'left')\n",
    "tags = pd.read_csv(path + 'suicideDetection/features/TagFea.csv')\n",
    "allFea2 = pd.merge(allFea, tags, on = 'user_id', how = 'left')\n",
    "allFea2 = pd.merge(allFea2, countVec, on = 'user_id', how ='left')\n",
    "allFea2['raw_label'] = allFea2['raw_label'].replace([1, 2, 3, 4], [1, 1, 1, 2]) \n",
    "allFea2.shape\n",
    "X =  allFea2.drop(['raw_label'], axis=1)\n",
    "y = allFea2.raw_label\n",
    "SGDclassifier(X,y)"
   ]
  },
  {
   "cell_type": "code",
   "execution_count": null,
   "metadata": {
    "collapsed": true
   },
   "outputs": [],
   "source": []
  },
  {
   "cell_type": "code",
   "execution_count": 28,
   "metadata": {},
   "outputs": [
    {
     "name": "stdout",
     "output_type": "stream",
     "text": [
      "Better speed can be achieved with apex installed from https://www.github.com/nvidia/apex.\n"
     ]
    }
   ],
   "source": [
    "from flair.data import Sentence\n",
    "from flair.models import SequenceTagger"
   ]
  },
  {
   "cell_type": "code",
   "execution_count": 29,
   "metadata": {},
   "outputs": [
    {
     "name": "stdout",
     "output_type": "stream",
     "text": [
      "2019-03-08 18:39:23,444 https://s3.eu-central-1.amazonaws.com/alan-nlp/resources/models-v0.4/NER-conll03-english/en-ner-conll03-v0.4.pt not found in cache, downloading to /tmp/tmpd26bpgw8\n"
     ]
    },
    {
     "name": "stderr",
     "output_type": "stream",
     "text": [
      "100%|██████████| 432197603/432197603 [00:13<00:00, 31666848.95B/s]"
     ]
    },
    {
     "name": "stdout",
     "output_type": "stream",
     "text": [
      "2019-03-08 18:39:37,329 copying /tmp/tmpd26bpgw8 to cache at /home/lucia/.flair/models/en-ner-conll03-v0.4.pt\n"
     ]
    },
    {
     "name": "stderr",
     "output_type": "stream",
     "text": [
      "\n"
     ]
    },
    {
     "name": "stdout",
     "output_type": "stream",
     "text": [
      "2019-03-08 18:39:37,646 removing temp file /tmp/tmpd26bpgw8\n",
      "2019-03-08 18:39:37,647 loading file /home/lucia/.flair/models/en-ner-conll03-v0.4.pt\n"
     ]
    },
    {
     "data": {
      "text/plain": [
       "[Sentence: \"I love Berlin .\" - 4 Tokens]"
      ]
     },
     "execution_count": 29,
     "metadata": {},
     "output_type": "execute_result"
    }
   ],
   "source": [
    "# make a sentence\n",
    "sentence = Sentence('I love Berlin .')\n",
    "# load the NER tagger\n",
    "tagger = SequenceTagger.load('ner')\n",
    "# run NER over sentence\n",
    "tagger.predict(sentence)\n"
   ]
  },
  {
   "cell_type": "code",
   "execution_count": 64,
   "metadata": {},
   "outputs": [
    {
     "data": {
      "text/plain": [
       "[Sentence: \"they compensate by being extraordinarily accommodating.Friends, .\" - 7 Tokens]"
      ]
     },
     "execution_count": 64,
     "metadata": {},
     "output_type": "execute_result"
    }
   ],
   "source": [
    "sentence = Sentence(' they compensate by being extraordinarily accommodating.Friends, .')\n",
    "# predict NER tags\n",
    "tagger.predict(sentence)"
   ]
  },
  {
   "cell_type": "code",
   "execution_count": 65,
   "metadata": {},
   "outputs": [
    {
     "name": "stdout",
     "output_type": "stream",
     "text": [
      "they compensate by being extraordinarily accommodating.Friends, .\n"
     ]
    }
   ],
   "source": [
    "print(sentence.to_tagged_string())"
   ]
  },
  {
   "cell_type": "code",
   "execution_count": 66,
   "metadata": {},
   "outputs": [
    {
     "name": "stdout",
     "output_type": "stream",
     "text": [
      "{'text': ' they compensate by being extraordinarily accommodating.Friends, .', 'labels': [], 'entities': []}\n"
     ]
    }
   ],
   "source": [
    "print(sentence.to_dict(tag_type='ner'))"
   ]
  },
  {
   "cell_type": "code",
   "execution_count": null,
   "metadata": {
    "collapsed": true
   },
   "outputs": [],
   "source": []
  },
  {
   "cell_type": "code",
   "execution_count": 7,
   "metadata": {},
   "outputs": [
    {
     "data": {
      "text/plain": [
       "(2866, 12)"
      ]
     },
     "execution_count": 7,
     "metadata": {},
     "output_type": "execute_result"
    }
   ],
   "source": [
    "path = '/home/lucia/phd_work/shareTask/'\n",
    "stress = pd.read_csv(path + 'data/clpsych19_training_data/stressed.csv')\n",
    "stress.shape"
   ]
  },
  {
   "cell_type": "code",
   "execution_count": 8,
   "metadata": {},
   "outputs": [
    {
     "data": {
      "text/plain": [
       "(919, 8)"
      ]
     },
     "execution_count": 8,
     "metadata": {},
     "output_type": "execute_result"
    }
   ],
   "source": [
    "SW = pd.read_csv(path + 'data/clpsych19_training_data/Btrain_NoNoise_SW.csv')\n",
    "SW.shape"
   ]
  },
  {
   "cell_type": "code",
   "execution_count": 11,
   "metadata": {},
   "outputs": [
    {
     "name": "stderr",
     "output_type": "stream",
     "text": [
      "/home/lucia/anaconda3/lib/python3.6/site-packages/pandas/core/frame.py:6211: FutureWarning: Sorting because non-concatenation axis is not aligned. A future version\n",
      "of pandas will change to not sort by default.\n",
      "\n",
      "To accept the future behavior, pass 'sort=False'.\n",
      "\n",
      "To retain the current behavior and silence the warning, pass 'sort=True'.\n",
      "\n",
      "  sort=sort)\n"
     ]
    }
   ],
   "source": [
    "BtrainNoNoiseSWStress = stress.append(pd.DataFrame(data = SW))\n",
    "BtrainNoNoiseSWStress.to_csv(path + 'data/clpsych19_training_data/BtrainNoNoiseSWStress.csv')"
   ]
  },
  {
   "cell_type": "code",
   "execution_count": 55,
   "metadata": {},
   "outputs": [
    {
     "data": {
      "text/plain": [
       "(496, 1646)"
      ]
     },
     "execution_count": 55,
     "metadata": {},
     "output_type": "execute_result"
    }
   ],
   "source": [
    "allfea = pd.read_csv(path + 'allFea.csv')\n",
    "allfea = allfea.iloc[:,2::]\n",
    "allfea.shape"
   ]
  },
  {
   "cell_type": "code",
   "execution_count": 57,
   "metadata": {},
   "outputs": [
    {
     "data": {
      "text/html": [
       "<div>\n",
       "<style scoped>\n",
       "    .dataframe tbody tr th:only-of-type {\n",
       "        vertical-align: middle;\n",
       "    }\n",
       "\n",
       "    .dataframe tbody tr th {\n",
       "        vertical-align: top;\n",
       "    }\n",
       "\n",
       "    .dataframe thead th {\n",
       "        text-align: right;\n",
       "    }\n",
       "</style>\n",
       "<table border=\"1\" class=\"dataframe\">\n",
       "  <thead>\n",
       "    <tr style=\"text-align: right;\">\n",
       "      <th></th>\n",
       "      <th>user_id</th>\n",
       "      <th>raw_label</th>\n",
       "      <th>healthPostingFrequency</th>\n",
       "      <th>SWFrequency</th>\n",
       "      <th>SWPostingInterval</th>\n",
       "      <th>SWFreq</th>\n",
       "      <th>SWWordCount</th>\n",
       "      <th>fin_body</th>\n",
       "      <th>drug_body</th>\n",
       "      <th>mental_body</th>\n",
       "      <th>...</th>\n",
       "      <th>1490</th>\n",
       "      <th>1491</th>\n",
       "      <th>1492</th>\n",
       "      <th>1493</th>\n",
       "      <th>1494</th>\n",
       "      <th>1495</th>\n",
       "      <th>1496</th>\n",
       "      <th>1497</th>\n",
       "      <th>1498</th>\n",
       "      <th>1499</th>\n",
       "    </tr>\n",
       "  </thead>\n",
       "  <tbody>\n",
       "    <tr>\n",
       "      <th>1</th>\n",
       "      <td>56</td>\n",
       "      <td>3</td>\n",
       "      <td>1</td>\n",
       "      <td>3</td>\n",
       "      <td>50.0</td>\n",
       "      <td>0</td>\n",
       "      <td>102.0</td>\n",
       "      <td>0</td>\n",
       "      <td>1</td>\n",
       "      <td>1</td>\n",
       "      <td>...</td>\n",
       "      <td>0.0</td>\n",
       "      <td>0.0</td>\n",
       "      <td>0.0</td>\n",
       "      <td>0.0</td>\n",
       "      <td>0.045981</td>\n",
       "      <td>0.0</td>\n",
       "      <td>0.0</td>\n",
       "      <td>0.0</td>\n",
       "      <td>0.0</td>\n",
       "      <td>0.0</td>\n",
       "    </tr>\n",
       "    <tr>\n",
       "      <th>2</th>\n",
       "      <td>137</td>\n",
       "      <td>3</td>\n",
       "      <td>4</td>\n",
       "      <td>1</td>\n",
       "      <td>0.0</td>\n",
       "      <td>0</td>\n",
       "      <td>0.0</td>\n",
       "      <td>1</td>\n",
       "      <td>1</td>\n",
       "      <td>1</td>\n",
       "      <td>...</td>\n",
       "      <td>0.0</td>\n",
       "      <td>0.0</td>\n",
       "      <td>0.0</td>\n",
       "      <td>0.0</td>\n",
       "      <td>0.000000</td>\n",
       "      <td>0.0</td>\n",
       "      <td>0.0</td>\n",
       "      <td>0.0</td>\n",
       "      <td>0.0</td>\n",
       "      <td>0.0</td>\n",
       "    </tr>\n",
       "    <tr>\n",
       "      <th>3</th>\n",
       "      <td>152</td>\n",
       "      <td>1</td>\n",
       "      <td>0</td>\n",
       "      <td>3</td>\n",
       "      <td>44.5</td>\n",
       "      <td>0</td>\n",
       "      <td>153.0</td>\n",
       "      <td>0</td>\n",
       "      <td>0</td>\n",
       "      <td>0</td>\n",
       "      <td>...</td>\n",
       "      <td>0.0</td>\n",
       "      <td>0.0</td>\n",
       "      <td>0.0</td>\n",
       "      <td>0.0</td>\n",
       "      <td>0.000000</td>\n",
       "      <td>0.0</td>\n",
       "      <td>0.0</td>\n",
       "      <td>0.0</td>\n",
       "      <td>0.0</td>\n",
       "      <td>0.0</td>\n",
       "    </tr>\n",
       "    <tr>\n",
       "      <th>4</th>\n",
       "      <td>370</td>\n",
       "      <td>3</td>\n",
       "      <td>7</td>\n",
       "      <td>1</td>\n",
       "      <td>0.0</td>\n",
       "      <td>0</td>\n",
       "      <td>254.0</td>\n",
       "      <td>1</td>\n",
       "      <td>1</td>\n",
       "      <td>1</td>\n",
       "      <td>...</td>\n",
       "      <td>0.0</td>\n",
       "      <td>0.0</td>\n",
       "      <td>0.0</td>\n",
       "      <td>0.0</td>\n",
       "      <td>0.000000</td>\n",
       "      <td>0.0</td>\n",
       "      <td>0.0</td>\n",
       "      <td>0.0</td>\n",
       "      <td>0.0</td>\n",
       "      <td>0.0</td>\n",
       "    </tr>\n",
       "  </tbody>\n",
       "</table>\n",
       "<p>4 rows × 1646 columns</p>\n",
       "</div>"
      ],
      "text/plain": [
       "   user_id  raw_label  healthPostingFrequency  SWFrequency  SWPostingInterval  \\\n",
       "1       56          3                       1            3               50.0   \n",
       "2      137          3                       4            1                0.0   \n",
       "3      152          1                       0            3               44.5   \n",
       "4      370          3                       7            1                0.0   \n",
       "\n",
       "   SWFreq  SWWordCount  fin_body  drug_body  mental_body  ...   1490  1491  \\\n",
       "1       0        102.0         0          1            1  ...    0.0   0.0   \n",
       "2       0          0.0         1          1            1  ...    0.0   0.0   \n",
       "3       0        153.0         0          0            0  ...    0.0   0.0   \n",
       "4       0        254.0         1          1            1  ...    0.0   0.0   \n",
       "\n",
       "   1492  1493      1494  1495  1496  1497  1498  1499  \n",
       "1   0.0   0.0  0.045981   0.0   0.0   0.0   0.0   0.0  \n",
       "2   0.0   0.0  0.000000   0.0   0.0   0.0   0.0   0.0  \n",
       "3   0.0   0.0  0.000000   0.0   0.0   0.0   0.0   0.0  \n",
       "4   0.0   0.0  0.000000   0.0   0.0   0.0   0.0   0.0  \n",
       "\n",
       "[4 rows x 1646 columns]"
      ]
     },
     "execution_count": 57,
     "metadata": {},
     "output_type": "execute_result"
    }
   ],
   "source": [
    "allfea[1:5]"
   ]
  },
  {
   "cell_type": "code",
   "execution_count": 90,
   "metadata": {},
   "outputs": [
    {
     "data": {
      "text/html": [
       "<div>\n",
       "<style scoped>\n",
       "    .dataframe tbody tr th:only-of-type {\n",
       "        vertical-align: middle;\n",
       "    }\n",
       "\n",
       "    .dataframe tbody tr th {\n",
       "        vertical-align: top;\n",
       "    }\n",
       "\n",
       "    .dataframe thead th {\n",
       "        text-align: right;\n",
       "    }\n",
       "</style>\n",
       "<table border=\"1\" class=\"dataframe\">\n",
       "  <thead>\n",
       "    <tr style=\"text-align: right;\">\n",
       "      <th></th>\n",
       "      <th>0</th>\n",
       "      <th>1</th>\n",
       "      <th>2</th>\n",
       "      <th>3</th>\n",
       "      <th>4</th>\n",
       "      <th>5</th>\n",
       "      <th>6</th>\n",
       "      <th>7</th>\n",
       "      <th>8</th>\n",
       "      <th>9</th>\n",
       "      <th>...</th>\n",
       "      <th>487</th>\n",
       "      <th>488</th>\n",
       "      <th>489</th>\n",
       "      <th>490</th>\n",
       "      <th>491</th>\n",
       "      <th>492</th>\n",
       "      <th>493</th>\n",
       "      <th>494</th>\n",
       "      <th>495</th>\n",
       "      <th>features</th>\n",
       "    </tr>\n",
       "  </thead>\n",
       "  <tbody>\n",
       "    <tr>\n",
       "      <th>raw_label</th>\n",
       "      <td>4.0</td>\n",
       "      <td>3.0</td>\n",
       "      <td>3.0</td>\n",
       "      <td>1.0</td>\n",
       "      <td>3.0</td>\n",
       "      <td>1.0</td>\n",
       "      <td>4.000000</td>\n",
       "      <td>3.0</td>\n",
       "      <td>2.0</td>\n",
       "      <td>4.0</td>\n",
       "      <td>...</td>\n",
       "      <td>1.0</td>\n",
       "      <td>3.0</td>\n",
       "      <td>4.0</td>\n",
       "      <td>1.0</td>\n",
       "      <td>4.0</td>\n",
       "      <td>1.0</td>\n",
       "      <td>1.0</td>\n",
       "      <td>1.0</td>\n",
       "      <td>3.000000</td>\n",
       "      <td>raw_label</td>\n",
       "    </tr>\n",
       "    <tr>\n",
       "      <th>healthPostingFrequency</th>\n",
       "      <td>1.0</td>\n",
       "      <td>1.0</td>\n",
       "      <td>4.0</td>\n",
       "      <td>0.0</td>\n",
       "      <td>7.0</td>\n",
       "      <td>1.0</td>\n",
       "      <td>19.000000</td>\n",
       "      <td>3.0</td>\n",
       "      <td>4.0</td>\n",
       "      <td>0.0</td>\n",
       "      <td>...</td>\n",
       "      <td>1.0</td>\n",
       "      <td>7.0</td>\n",
       "      <td>1.0</td>\n",
       "      <td>1.0</td>\n",
       "      <td>1.0</td>\n",
       "      <td>4.0</td>\n",
       "      <td>7.0</td>\n",
       "      <td>0.0</td>\n",
       "      <td>22.000000</td>\n",
       "      <td>healthPostingFrequency</td>\n",
       "    </tr>\n",
       "    <tr>\n",
       "      <th>SWFrequency</th>\n",
       "      <td>3.0</td>\n",
       "      <td>3.0</td>\n",
       "      <td>1.0</td>\n",
       "      <td>3.0</td>\n",
       "      <td>1.0</td>\n",
       "      <td>1.0</td>\n",
       "      <td>8.000000</td>\n",
       "      <td>1.0</td>\n",
       "      <td>1.0</td>\n",
       "      <td>1.0</td>\n",
       "      <td>...</td>\n",
       "      <td>1.0</td>\n",
       "      <td>1.0</td>\n",
       "      <td>3.0</td>\n",
       "      <td>1.0</td>\n",
       "      <td>1.0</td>\n",
       "      <td>1.0</td>\n",
       "      <td>5.0</td>\n",
       "      <td>1.0</td>\n",
       "      <td>4.000000</td>\n",
       "      <td>SWFrequency</td>\n",
       "    </tr>\n",
       "    <tr>\n",
       "      <th>SWPostingInterval</th>\n",
       "      <td>57.0</td>\n",
       "      <td>50.0</td>\n",
       "      <td>0.0</td>\n",
       "      <td>44.5</td>\n",
       "      <td>0.0</td>\n",
       "      <td>0.0</td>\n",
       "      <td>113.857143</td>\n",
       "      <td>0.0</td>\n",
       "      <td>0.0</td>\n",
       "      <td>0.0</td>\n",
       "      <td>...</td>\n",
       "      <td>0.0</td>\n",
       "      <td>0.0</td>\n",
       "      <td>138.0</td>\n",
       "      <td>0.0</td>\n",
       "      <td>0.0</td>\n",
       "      <td>0.0</td>\n",
       "      <td>211.5</td>\n",
       "      <td>0.0</td>\n",
       "      <td>271.333333</td>\n",
       "      <td>SWPostingInterval</td>\n",
       "    </tr>\n",
       "  </tbody>\n",
       "</table>\n",
       "<p>4 rows × 497 columns</p>\n",
       "</div>"
      ],
      "text/plain": [
       "                           0     1    2     3    4    5           6    7    8  \\\n",
       "raw_label                4.0   3.0  3.0   1.0  3.0  1.0    4.000000  3.0  2.0   \n",
       "healthPostingFrequency   1.0   1.0  4.0   0.0  7.0  1.0   19.000000  3.0  4.0   \n",
       "SWFrequency              3.0   3.0  1.0   3.0  1.0  1.0    8.000000  1.0  1.0   \n",
       "SWPostingInterval       57.0  50.0  0.0  44.5  0.0  0.0  113.857143  0.0  0.0   \n",
       "\n",
       "                          9           ...            487  488    489  490  \\\n",
       "raw_label               4.0           ...            1.0  3.0    4.0  1.0   \n",
       "healthPostingFrequency  0.0           ...            1.0  7.0    1.0  1.0   \n",
       "SWFrequency             1.0           ...            1.0  1.0    3.0  1.0   \n",
       "SWPostingInterval       0.0           ...            0.0  0.0  138.0  0.0   \n",
       "\n",
       "                        491  492    493  494         495  \\\n",
       "raw_label               4.0  1.0    1.0  1.0    3.000000   \n",
       "healthPostingFrequency  1.0  4.0    7.0  0.0   22.000000   \n",
       "SWFrequency             1.0  1.0    5.0  1.0    4.000000   \n",
       "SWPostingInterval       0.0  0.0  211.5  0.0  271.333333   \n",
       "\n",
       "                                      features  \n",
       "raw_label                            raw_label  \n",
       "healthPostingFrequency  healthPostingFrequency  \n",
       "SWFrequency                        SWFrequency  \n",
       "SWPostingInterval            SWPostingInterval  \n",
       "\n",
       "[4 rows x 497 columns]"
      ]
     },
     "execution_count": 90,
     "metadata": {},
     "output_type": "execute_result"
    }
   ],
   "source": [
    "allf = allfea.T\n",
    "allf.shape\n",
    "allf['features'] = allf.index\n",
    "allf[1:5]"
   ]
  },
  {
   "cell_type": "code",
   "execution_count": 86,
   "metadata": {},
   "outputs": [],
   "source": [
    "fea = pd.read_csv(path + 'topFea.csv')\n",
    "fea.columns = ['features', 'importance']\n"
   ]
  },
  {
   "cell_type": "code",
   "execution_count": 92,
   "metadata": {},
   "outputs": [
    {
     "data": {
      "text/plain": [
       "(1646, 498)"
      ]
     },
     "execution_count": 92,
     "metadata": {},
     "output_type": "execute_result"
    }
   ],
   "source": [
    "dropFea = pd.merge(fea, allf, on = 'features', how = 'right')\n",
    "dropFea.shape\n",
    "# sortFea = dropFea.sort_values(by=['importance'],ascending=False)\n",
    "# sortFea.user_id\n",
    "#trainFea = sortFea[1:100].T\n"
   ]
  },
  {
   "cell_type": "code",
   "execution_count": null,
   "metadata": {
    "collapsed": true
   },
   "outputs": [],
   "source": []
  }
 ],
 "metadata": {
  "kernelspec": {
   "display_name": "Python 3",
   "language": "python",
   "name": "python3"
  },
  "language_info": {
   "codemirror_mode": {
    "name": "ipython",
    "version": 3
   },
   "file_extension": ".py",
   "mimetype": "text/x-python",
   "name": "python",
   "nbconvert_exporter": "python",
   "pygments_lexer": "ipython3",
   "version": "3.6.1"
  }
 },
 "nbformat": 4,
 "nbformat_minor": 2
}
